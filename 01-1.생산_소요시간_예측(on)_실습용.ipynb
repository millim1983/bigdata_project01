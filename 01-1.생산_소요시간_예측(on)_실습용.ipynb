{
  "cells": [
    {
      "cell_type": "markdown",
      "metadata": {
        "id": "view-in-github",
        "colab_type": "text"
      },
      "source": [
        "<a href=\"https://colab.research.google.com/github/desunny/steel-ml/blob/dev/%EC%83%9D%EC%82%B0_%EC%86%8C%EC%9A%94%EC%8B%9C%EA%B0%84_%EC%98%88%EC%B8%A1(on)_%EC%8B%A4%EC%8A%B5%EC%9A%A9.ipynb\" target=\"_parent\"><img src=\"https://colab.research.google.com/assets/colab-badge.svg\" alt=\"Open In Colab\"/></a>"
      ]
    },
    {
      "cell_type": "markdown",
      "metadata": {
        "id": "fLcv2RrB8_qo"
      },
      "source": [
        "\n",
        "\n",
        "---\n",
        "* 최초 작성일 : 2022.06.09\n",
        "* 최종 수정일 : 2022.06.16\n",
        "---\n",
        "\n",
        "\n"
      ]
    },
    {
      "cell_type": "markdown",
      "source": [
        "# **1. 개요 및 데이터 불러오기** <br>"
      ],
      "metadata": {
        "id": "u7rFTsL7WnbM"
      }
    },
    {
      "cell_type": "markdown",
      "source": [
        "### 1-1. 개요\n"
      ],
      "metadata": {
        "id": "6ly8W4RXW52W"
      }
    },
    {
      "cell_type": "markdown",
      "metadata": {
        "id": "cxBjPDaJ2vyl"
      },
      "source": [
        "\n",
        "> **분석목표**\n",
        ">* 황삭기 작업 소요시간에 영향을 미치는 요소를 파악할 수 있다.\n",
        ">* 과거 실적 데이터를 이용하여 만든 예측모델을 통해 모든 재공들의 작업 소요시간을 미리 파악하고, 이를 통해 황삭기의 시간기반 부하상황을 확인할 수 있다.\n",
        ">\n",
        "> **실습내용**\n",
        ">1. 황삭기 작업실적 데이터에 대한 이해  \n",
        ">2. 탐색적 데이터 분석(EDA), 시각화를 통한 데이터 특성 파악\n",
        ">3. 이상 데이터 처리 및 파생변수 생성\n",
        ">4. 데이터 분리(train, test) \n",
        ">5. 예측모델(Regression) 학습 및 평가\n",
        ">6. 하이퍼파라미터 튜닝\n",
        ">\n",
        "> **실습 데이터**\n",
        ">\n",
        ">1. 황삭기는 Bite, Drill 등의 공구로 표면을 깎아내어 소재의 조직 및 물리적인 성질의 변화없이 형상만 변화 시키는 가공 설비이다.\n",
        ">\n",
        ">2. 실습데이터는 황삭설비 1개의 약 3년치 MES 작업실적 데이터로 크게 ①소재별 특성 데이터와 ②가공 후 작업 결과 데이터로 구성되어 있다.\n",
        ">\n",
        ">3. ① 소재별 특성 데이터 는 대표적으로 소재의 사이즈(외경, 길이 등)와 투입량(중량, 수량), 가공 후 목표 외경, 강종, 작업표준(이동속도/절입량) 이 있다. <BR> ② 가공 후 작업 결과 데이터는 대표적으로 작업 시작/종료 시간, 작업후 생산 사이즈(외경, 길이 등), 생산량(중량, 수량) 이 있다.<BR> _(참고) ②의 경우 작업 전 소재에서는 알 수 없는 정보이기 때문에 추후 예측모델 생성시 제외해야 한다.(3-2 row filtering 참조)_\n",
        ">\n",
        "> **데이터 구성**\n",
        ">\n",
        ">* 데이터는 csv파일로 약 27,100개의 데이터로 구성 되어 있다.\n",
        ">* **굵은 글씨**는 분석에 사용한 컬럼이다. 실제 생성되는 데이터는 보다 복잡하지만 단순화 하였다. \n",
        ">* 황삭기 이해를 돕기위한 영상 : [링크](https://www.youtube.com/watch?v=BFoX-CAn1Co)\n",
        ">\n",
        ">\n",
        ">| 컬럼명           | 설명                             |\n",
        ">|------------------|----------------------------------|\n",
        ">| FACTORY          | 공장코드                         |\n",
        ">| WORK_SHAPE       | 작업조(1근/2근/3근)              |\n",
        ">| **INPUT_ED**         | 투입되는 소재의 외경(mm)         |\n",
        ">| **INPUT_LENGTH**     | 투입되는 소재의 개별 길이(mm)    |\n",
        ">| **INPUT_QTY**        | 투입 총 수량(개)                 |\n",
        ">| **DIRECTION_ED**   | 가공 후 목표 외경(mm)            |\n",
        ">| **OUTPUT_ED**        | 생산된 소재의 외경(mm)           |\n",
        ">| **STEEL_CATEGORY**   | 투입 강종 분류                   |\n",
        ">| **WORK_START_DT**    | 작업시작일시                     |\n",
        ">| **WORK_END_DT**      |  작업종료일시                    |\n"
      ]
    },
    {
      "cell_type": "code",
      "source": [
        "#data clone\n",
        "!git clone https://github.com/desunny/steel-ml/"
      ],
      "metadata": {
        "colab": {
          "base_uri": "https://localhost:8080/"
        },
        "id": "cxCaot1Mnffj",
        "outputId": "08ec1416-297d-443c-c491-740dd0d243f3"
      },
      "execution_count": null,
      "outputs": [
        {
          "output_type": "stream",
          "name": "stdout",
          "text": [
            "Cloning into 'steel-ml'...\n",
            "remote: Enumerating objects: 26, done.\u001b[K\n",
            "remote: Counting objects: 100% (26/26), done.\u001b[K\n",
            "remote: Compressing objects: 100% (22/22), done.\u001b[K\n",
            "remote: Total 26 (delta 4), reused 0 (delta 0), pack-reused 0\u001b[K\n",
            "Unpacking objects: 100% (26/26), done.\n"
          ]
        }
      ]
    },
    {
      "cell_type": "code",
      "execution_count": null,
      "metadata": {
        "id": "bNao1XywsKt-"
      },
      "outputs": [],
      "source": [
        "#자주 사용하는 라이브러리 임포트 \n",
        "import pandas as pd\n",
        "import seaborn as sns\n",
        "import numpy as np\n",
        "import matplotlib.pyplot as plt\n",
        "\n",
        "#소숫점 자리수 표시 방법 지정 \n",
        "pd.options.display.float_format = '{:.5f}'.format\n",
        "\n",
        "\n",
        "#경고메세지 제거 \n",
        "import warnings\n",
        "warnings.filterwarnings('ignore')"
      ]
    },
    {
      "cell_type": "markdown",
      "source": [
        "### 1-2. 데이터 불러오기"
      ],
      "metadata": {
        "id": "rQ6OGKkXWg1Q"
      }
    },
    {
      "cell_type": "code",
      "source": [
        "#생산소요시간로그 데이터 읽어오기 \n",
        "location = \"./steel-ml/datasets/steel_ai_01_on.csv\"\n",
        "df_tmp = pd.read_csv(location, header=0)\n",
        "df_tmp.head()\n"
      ],
      "metadata": {
        "colab": {
          "base_uri": "https://localhost:8080/",
          "height": 357
        },
        "id": "eY0buOJRri-c",
        "outputId": "639e2f5c-35bf-4f8c-bf14-e93bee6153db"
      },
      "execution_count": null,
      "outputs": [
        {
          "output_type": "execute_result",
          "data": {
            "text/plain": [
              "  FACTORY  WORK_SHAPE  INPUT_ED  INPUT_LENGTH  INPUT_QTY  DIRECTION_ED  \\\n",
              "0      F1           1 154.00000          7450          3     148.00000   \n",
              "1      F1           1 154.00000          7450          3     148.00000   \n",
              "2      F1           1 154.00000          7450          3     148.00000   \n",
              "3      F1           1 154.00000          7450          3     148.00000   \n",
              "4      F1           1 154.00000          7450          3     148.00000   \n",
              "\n",
              "   OUTPUT_ED  STEEL_CATEGORY    WORK_START_DT       WORK_END_DT  \n",
              "0  148.50000            2929  2017-01-02 7:00   2017-01-02 7:40  \n",
              "1  148.50000            2929  2017-01-02 7:40   2017-01-02 8:20  \n",
              "2  148.50000            2929  2017-01-02 8:20   2017-01-02 9:00  \n",
              "3  148.50000            2929  2017-01-02 9:00   2017-01-02 9:40  \n",
              "4  148.50000            2929  2017-01-02 9:40  2017-01-02 10:20  "
            ],
            "text/html": [
              "\n",
              "  <div id=\"df-86936637-cbd3-49fd-b0a6-f177b591dd7c\">\n",
              "    <div class=\"colab-df-container\">\n",
              "      <div>\n",
              "<style scoped>\n",
              "    .dataframe tbody tr th:only-of-type {\n",
              "        vertical-align: middle;\n",
              "    }\n",
              "\n",
              "    .dataframe tbody tr th {\n",
              "        vertical-align: top;\n",
              "    }\n",
              "\n",
              "    .dataframe thead th {\n",
              "        text-align: right;\n",
              "    }\n",
              "</style>\n",
              "<table border=\"1\" class=\"dataframe\">\n",
              "  <thead>\n",
              "    <tr style=\"text-align: right;\">\n",
              "      <th></th>\n",
              "      <th>FACTORY</th>\n",
              "      <th>WORK_SHAPE</th>\n",
              "      <th>INPUT_ED</th>\n",
              "      <th>INPUT_LENGTH</th>\n",
              "      <th>INPUT_QTY</th>\n",
              "      <th>DIRECTION_ED</th>\n",
              "      <th>OUTPUT_ED</th>\n",
              "      <th>STEEL_CATEGORY</th>\n",
              "      <th>WORK_START_DT</th>\n",
              "      <th>WORK_END_DT</th>\n",
              "    </tr>\n",
              "  </thead>\n",
              "  <tbody>\n",
              "    <tr>\n",
              "      <th>0</th>\n",
              "      <td>F1</td>\n",
              "      <td>1</td>\n",
              "      <td>154.00000</td>\n",
              "      <td>7450</td>\n",
              "      <td>3</td>\n",
              "      <td>148.00000</td>\n",
              "      <td>148.50000</td>\n",
              "      <td>2929</td>\n",
              "      <td>2017-01-02 7:00</td>\n",
              "      <td>2017-01-02 7:40</td>\n",
              "    </tr>\n",
              "    <tr>\n",
              "      <th>1</th>\n",
              "      <td>F1</td>\n",
              "      <td>1</td>\n",
              "      <td>154.00000</td>\n",
              "      <td>7450</td>\n",
              "      <td>3</td>\n",
              "      <td>148.00000</td>\n",
              "      <td>148.50000</td>\n",
              "      <td>2929</td>\n",
              "      <td>2017-01-02 7:40</td>\n",
              "      <td>2017-01-02 8:20</td>\n",
              "    </tr>\n",
              "    <tr>\n",
              "      <th>2</th>\n",
              "      <td>F1</td>\n",
              "      <td>1</td>\n",
              "      <td>154.00000</td>\n",
              "      <td>7450</td>\n",
              "      <td>3</td>\n",
              "      <td>148.00000</td>\n",
              "      <td>148.50000</td>\n",
              "      <td>2929</td>\n",
              "      <td>2017-01-02 8:20</td>\n",
              "      <td>2017-01-02 9:00</td>\n",
              "    </tr>\n",
              "    <tr>\n",
              "      <th>3</th>\n",
              "      <td>F1</td>\n",
              "      <td>1</td>\n",
              "      <td>154.00000</td>\n",
              "      <td>7450</td>\n",
              "      <td>3</td>\n",
              "      <td>148.00000</td>\n",
              "      <td>148.50000</td>\n",
              "      <td>2929</td>\n",
              "      <td>2017-01-02 9:00</td>\n",
              "      <td>2017-01-02 9:40</td>\n",
              "    </tr>\n",
              "    <tr>\n",
              "      <th>4</th>\n",
              "      <td>F1</td>\n",
              "      <td>1</td>\n",
              "      <td>154.00000</td>\n",
              "      <td>7450</td>\n",
              "      <td>3</td>\n",
              "      <td>148.00000</td>\n",
              "      <td>148.50000</td>\n",
              "      <td>2929</td>\n",
              "      <td>2017-01-02 9:40</td>\n",
              "      <td>2017-01-02 10:20</td>\n",
              "    </tr>\n",
              "  </tbody>\n",
              "</table>\n",
              "</div>\n",
              "      <button class=\"colab-df-convert\" onclick=\"convertToInteractive('df-86936637-cbd3-49fd-b0a6-f177b591dd7c')\"\n",
              "              title=\"Convert this dataframe to an interactive table.\"\n",
              "              style=\"display:none;\">\n",
              "        \n",
              "  <svg xmlns=\"http://www.w3.org/2000/svg\" height=\"24px\"viewBox=\"0 0 24 24\"\n",
              "       width=\"24px\">\n",
              "    <path d=\"M0 0h24v24H0V0z\" fill=\"none\"/>\n",
              "    <path d=\"M18.56 5.44l.94 2.06.94-2.06 2.06-.94-2.06-.94-.94-2.06-.94 2.06-2.06.94zm-11 1L8.5 8.5l.94-2.06 2.06-.94-2.06-.94L8.5 2.5l-.94 2.06-2.06.94zm10 10l.94 2.06.94-2.06 2.06-.94-2.06-.94-.94-2.06-.94 2.06-2.06.94z\"/><path d=\"M17.41 7.96l-1.37-1.37c-.4-.4-.92-.59-1.43-.59-.52 0-1.04.2-1.43.59L10.3 9.45l-7.72 7.72c-.78.78-.78 2.05 0 2.83L4 21.41c.39.39.9.59 1.41.59.51 0 1.02-.2 1.41-.59l7.78-7.78 2.81-2.81c.8-.78.8-2.07 0-2.86zM5.41 20L4 18.59l7.72-7.72 1.47 1.35L5.41 20z\"/>\n",
              "  </svg>\n",
              "      </button>\n",
              "      \n",
              "  <style>\n",
              "    .colab-df-container {\n",
              "      display:flex;\n",
              "      flex-wrap:wrap;\n",
              "      gap: 12px;\n",
              "    }\n",
              "\n",
              "    .colab-df-convert {\n",
              "      background-color: #E8F0FE;\n",
              "      border: none;\n",
              "      border-radius: 50%;\n",
              "      cursor: pointer;\n",
              "      display: none;\n",
              "      fill: #1967D2;\n",
              "      height: 32px;\n",
              "      padding: 0 0 0 0;\n",
              "      width: 32px;\n",
              "    }\n",
              "\n",
              "    .colab-df-convert:hover {\n",
              "      background-color: #E2EBFA;\n",
              "      box-shadow: 0px 1px 2px rgba(60, 64, 67, 0.3), 0px 1px 3px 1px rgba(60, 64, 67, 0.15);\n",
              "      fill: #174EA6;\n",
              "    }\n",
              "\n",
              "    [theme=dark] .colab-df-convert {\n",
              "      background-color: #3B4455;\n",
              "      fill: #D2E3FC;\n",
              "    }\n",
              "\n",
              "    [theme=dark] .colab-df-convert:hover {\n",
              "      background-color: #434B5C;\n",
              "      box-shadow: 0px 1px 3px 1px rgba(0, 0, 0, 0.15);\n",
              "      filter: drop-shadow(0px 1px 2px rgba(0, 0, 0, 0.3));\n",
              "      fill: #FFFFFF;\n",
              "    }\n",
              "  </style>\n",
              "\n",
              "      <script>\n",
              "        const buttonEl =\n",
              "          document.querySelector('#df-86936637-cbd3-49fd-b0a6-f177b591dd7c button.colab-df-convert');\n",
              "        buttonEl.style.display =\n",
              "          google.colab.kernel.accessAllowed ? 'block' : 'none';\n",
              "\n",
              "        async function convertToInteractive(key) {\n",
              "          const element = document.querySelector('#df-86936637-cbd3-49fd-b0a6-f177b591dd7c');\n",
              "          const dataTable =\n",
              "            await google.colab.kernel.invokeFunction('convertToInteractive',\n",
              "                                                     [key], {});\n",
              "          if (!dataTable) return;\n",
              "\n",
              "          const docLinkHtml = 'Like what you see? Visit the ' +\n",
              "            '<a target=\"_blank\" href=https://colab.research.google.com/notebooks/data_table.ipynb>data table notebook</a>'\n",
              "            + ' to learn more about interactive tables.';\n",
              "          element.innerHTML = '';\n",
              "          dataTable['output_type'] = 'display_data';\n",
              "          await google.colab.output.renderOutput(dataTable, element);\n",
              "          const docLink = document.createElement('div');\n",
              "          docLink.innerHTML = docLinkHtml;\n",
              "          element.appendChild(docLink);\n",
              "        }\n",
              "      </script>\n",
              "    </div>\n",
              "  </div>\n",
              "  "
            ]
          },
          "metadata": {},
          "execution_count": 50
        }
      ]
    },
    {
      "cell_type": "markdown",
      "source": [
        "### 1-3. 데이터 확인"
      ],
      "metadata": {
        "id": "d8q-_9urWxMA"
      }
    },
    {
      "cell_type": "markdown",
      "metadata": {
        "id": "qnmpiZxGM5qF"
      },
      "source": [
        "* null 확인\n",
        "  * NULL 값이 없음을 확인\n",
        "* 데이터 타입 확인\n",
        "    * STEEL_CATEGORY와 WORK_SHAPE의 경우 내용은 정수이지만 가지고 있는 의미는 문자이기 때문에 *int형*을 각각 *category 형* 과 *object 형*으로 변환 진행\n",
        "    * STEEL_GRADE : 4자리 숫자로 구성된 강종 분류 데이터\n",
        "    * WORK_SHAPE : 작업 형태 분류로 1, 2, 3 값은 각각 1근(주간), 2근(중간), 3근(야간)을 의미함\n",
        "\n",
        "| 데이터 타입     | 설명                 |\n",
        "|:---------------:|----------------------|\n",
        "| object          | 문자열 or 복합형     |\n",
        "| int64           | 정수형               |\n",
        "| float64         | 실수형               |\n",
        "| bool            | boolean(참/거짓)     |\n",
        "| category        | 카테고리형           |\n",
        "| <left>데이터 타입 관련 참고 : [링크](https://wikidocs.net/78180)  |\n",
        "\n",
        " "
      ]
    },
    {
      "cell_type": "code",
      "execution_count": null,
      "metadata": {
        "colab": {
          "base_uri": "https://localhost:8080/"
        },
        "id": "Ds7EV9zf1P52",
        "outputId": "1670cc5f-7001-4b46-a501-56d506d525d4"
      },
      "outputs": [
        {
          "output_type": "stream",
          "name": "stdout",
          "text": [
            "<class 'pandas.core.frame.DataFrame'>\n",
            "RangeIndex: 27150 entries, 0 to 27149\n",
            "Data columns (total 10 columns):\n",
            " #   Column          Non-Null Count  Dtype  \n",
            "---  ------          --------------  -----  \n",
            " 0   FACTORY         27150 non-null  object \n",
            " 1   WORK_SHAPE      27150 non-null  int64  \n",
            " 2   INPUT_ED        27150 non-null  float64\n",
            " 3   INPUT_LENGTH    27150 non-null  int64  \n",
            " 4   INPUT_QTY       27150 non-null  int64  \n",
            " 5   DIRECTION_ED    27150 non-null  float64\n",
            " 6   OUTPUT_ED       27150 non-null  float64\n",
            " 7   STEEL_CATEGORY  27150 non-null  int64  \n",
            " 8   WORK_START_DT   27150 non-null  object \n",
            " 9   WORK_END_DT     27150 non-null  object \n",
            "dtypes: float64(3), int64(4), object(3)\n",
            "memory usage: 2.1+ MB\n"
          ]
        }
      ],
      "source": [
        "#Null 정보와 데이터 타입정보 확인\n"
      ]
    },
    {
      "cell_type": "markdown",
      "metadata": {
        "id": "1Js611SB98dG"
      },
      "source": [
        "* 데이터 타입 변경"
      ]
    },
    {
      "cell_type": "code",
      "execution_count": null,
      "metadata": {
        "colab": {
          "base_uri": "https://localhost:8080/"
        },
        "id": "cASW-fdI98nd",
        "outputId": "f41d228e-e6b0-4c5a-b257-9879f0a0a693"
      },
      "outputs": [
        {
          "output_type": "execute_result",
          "data": {
            "text/plain": [
              "FACTORY             object\n",
              "WORK_SHAPE          object\n",
              "INPUT_ED           float64\n",
              "INPUT_LENGTH         int64\n",
              "INPUT_QTY            int64\n",
              "DIRECTION_ED       float64\n",
              "OUTPUT_ED          float64\n",
              "STEEL_CATEGORY    category\n",
              "WORK_START_DT       object\n",
              "WORK_END_DT         object\n",
              "dtype: object"
            ]
          },
          "metadata": {},
          "execution_count": 51
        }
      ],
      "source": [
        "#STEEL_CATEGORY와 WORK_SHAPE의 경우 내용은 정수이지만 가지고 있는 의미는 문자이기 때문에 \n",
        "#int형을 각각 category 형 과 object 형으로 변환 진행\n"
      ]
    },
    {
      "cell_type": "markdown",
      "source": [
        "* 수치형 데이터 요약 확인"
      ],
      "metadata": {
        "id": "c7fJhNnt2zEw"
      }
    },
    {
      "cell_type": "code",
      "source": [
        ""
      ],
      "metadata": {
        "colab": {
          "base_uri": "https://localhost:8080/",
          "height": 300
        },
        "id": "-tTJkEvq2zLj",
        "outputId": "45911206-68a5-4642-8420-2d44e6484d46"
      },
      "execution_count": null,
      "outputs": [
        {
          "output_type": "execute_result",
          "data": {
            "text/plain": [
              "         INPUT_ED  INPUT_LENGTH   INPUT_QTY  DIRECTION_ED   OUTPUT_ED\n",
              "count 27150.00000   27150.00000 27150.00000   27150.00000 27150.00000\n",
              "mean    162.51097    6663.80840     3.09912     156.12218   156.62533\n",
              "std      14.27039     961.17961     1.93788      13.54787    18.64325\n",
              "min     124.00000    3200.00000     1.00000     114.00000     1.00000\n",
              "25%     154.00000    5800.00000     3.00000     148.00000   148.50000\n",
              "50%     154.00000    6700.00000     3.00000     148.00000   148.60000\n",
              "75%     175.00000    7600.00000     3.00000     168.00000   168.50000\n",
              "max     214.00000    9500.00000   300.00000     210.00000  2017.00000"
            ],
            "text/html": [
              "\n",
              "  <div id=\"df-f765e01c-67a2-4513-913c-9e53bbd67bfc\">\n",
              "    <div class=\"colab-df-container\">\n",
              "      <div>\n",
              "<style scoped>\n",
              "    .dataframe tbody tr th:only-of-type {\n",
              "        vertical-align: middle;\n",
              "    }\n",
              "\n",
              "    .dataframe tbody tr th {\n",
              "        vertical-align: top;\n",
              "    }\n",
              "\n",
              "    .dataframe thead th {\n",
              "        text-align: right;\n",
              "    }\n",
              "</style>\n",
              "<table border=\"1\" class=\"dataframe\">\n",
              "  <thead>\n",
              "    <tr style=\"text-align: right;\">\n",
              "      <th></th>\n",
              "      <th>INPUT_ED</th>\n",
              "      <th>INPUT_LENGTH</th>\n",
              "      <th>INPUT_QTY</th>\n",
              "      <th>DIRECTION_ED</th>\n",
              "      <th>OUTPUT_ED</th>\n",
              "    </tr>\n",
              "  </thead>\n",
              "  <tbody>\n",
              "    <tr>\n",
              "      <th>count</th>\n",
              "      <td>27150.00000</td>\n",
              "      <td>27150.00000</td>\n",
              "      <td>27150.00000</td>\n",
              "      <td>27150.00000</td>\n",
              "      <td>27150.00000</td>\n",
              "    </tr>\n",
              "    <tr>\n",
              "      <th>mean</th>\n",
              "      <td>162.51097</td>\n",
              "      <td>6663.80840</td>\n",
              "      <td>3.09912</td>\n",
              "      <td>156.12218</td>\n",
              "      <td>156.62533</td>\n",
              "    </tr>\n",
              "    <tr>\n",
              "      <th>std</th>\n",
              "      <td>14.27039</td>\n",
              "      <td>961.17961</td>\n",
              "      <td>1.93788</td>\n",
              "      <td>13.54787</td>\n",
              "      <td>18.64325</td>\n",
              "    </tr>\n",
              "    <tr>\n",
              "      <th>min</th>\n",
              "      <td>124.00000</td>\n",
              "      <td>3200.00000</td>\n",
              "      <td>1.00000</td>\n",
              "      <td>114.00000</td>\n",
              "      <td>1.00000</td>\n",
              "    </tr>\n",
              "    <tr>\n",
              "      <th>25%</th>\n",
              "      <td>154.00000</td>\n",
              "      <td>5800.00000</td>\n",
              "      <td>3.00000</td>\n",
              "      <td>148.00000</td>\n",
              "      <td>148.50000</td>\n",
              "    </tr>\n",
              "    <tr>\n",
              "      <th>50%</th>\n",
              "      <td>154.00000</td>\n",
              "      <td>6700.00000</td>\n",
              "      <td>3.00000</td>\n",
              "      <td>148.00000</td>\n",
              "      <td>148.60000</td>\n",
              "    </tr>\n",
              "    <tr>\n",
              "      <th>75%</th>\n",
              "      <td>175.00000</td>\n",
              "      <td>7600.00000</td>\n",
              "      <td>3.00000</td>\n",
              "      <td>168.00000</td>\n",
              "      <td>168.50000</td>\n",
              "    </tr>\n",
              "    <tr>\n",
              "      <th>max</th>\n",
              "      <td>214.00000</td>\n",
              "      <td>9500.00000</td>\n",
              "      <td>300.00000</td>\n",
              "      <td>210.00000</td>\n",
              "      <td>2017.00000</td>\n",
              "    </tr>\n",
              "  </tbody>\n",
              "</table>\n",
              "</div>\n",
              "      <button class=\"colab-df-convert\" onclick=\"convertToInteractive('df-f765e01c-67a2-4513-913c-9e53bbd67bfc')\"\n",
              "              title=\"Convert this dataframe to an interactive table.\"\n",
              "              style=\"display:none;\">\n",
              "        \n",
              "  <svg xmlns=\"http://www.w3.org/2000/svg\" height=\"24px\"viewBox=\"0 0 24 24\"\n",
              "       width=\"24px\">\n",
              "    <path d=\"M0 0h24v24H0V0z\" fill=\"none\"/>\n",
              "    <path d=\"M18.56 5.44l.94 2.06.94-2.06 2.06-.94-2.06-.94-.94-2.06-.94 2.06-2.06.94zm-11 1L8.5 8.5l.94-2.06 2.06-.94-2.06-.94L8.5 2.5l-.94 2.06-2.06.94zm10 10l.94 2.06.94-2.06 2.06-.94-2.06-.94-.94-2.06-.94 2.06-2.06.94z\"/><path d=\"M17.41 7.96l-1.37-1.37c-.4-.4-.92-.59-1.43-.59-.52 0-1.04.2-1.43.59L10.3 9.45l-7.72 7.72c-.78.78-.78 2.05 0 2.83L4 21.41c.39.39.9.59 1.41.59.51 0 1.02-.2 1.41-.59l7.78-7.78 2.81-2.81c.8-.78.8-2.07 0-2.86zM5.41 20L4 18.59l7.72-7.72 1.47 1.35L5.41 20z\"/>\n",
              "  </svg>\n",
              "      </button>\n",
              "      \n",
              "  <style>\n",
              "    .colab-df-container {\n",
              "      display:flex;\n",
              "      flex-wrap:wrap;\n",
              "      gap: 12px;\n",
              "    }\n",
              "\n",
              "    .colab-df-convert {\n",
              "      background-color: #E8F0FE;\n",
              "      border: none;\n",
              "      border-radius: 50%;\n",
              "      cursor: pointer;\n",
              "      display: none;\n",
              "      fill: #1967D2;\n",
              "      height: 32px;\n",
              "      padding: 0 0 0 0;\n",
              "      width: 32px;\n",
              "    }\n",
              "\n",
              "    .colab-df-convert:hover {\n",
              "      background-color: #E2EBFA;\n",
              "      box-shadow: 0px 1px 2px rgba(60, 64, 67, 0.3), 0px 1px 3px 1px rgba(60, 64, 67, 0.15);\n",
              "      fill: #174EA6;\n",
              "    }\n",
              "\n",
              "    [theme=dark] .colab-df-convert {\n",
              "      background-color: #3B4455;\n",
              "      fill: #D2E3FC;\n",
              "    }\n",
              "\n",
              "    [theme=dark] .colab-df-convert:hover {\n",
              "      background-color: #434B5C;\n",
              "      box-shadow: 0px 1px 3px 1px rgba(0, 0, 0, 0.15);\n",
              "      filter: drop-shadow(0px 1px 2px rgba(0, 0, 0, 0.3));\n",
              "      fill: #FFFFFF;\n",
              "    }\n",
              "  </style>\n",
              "\n",
              "      <script>\n",
              "        const buttonEl =\n",
              "          document.querySelector('#df-f765e01c-67a2-4513-913c-9e53bbd67bfc button.colab-df-convert');\n",
              "        buttonEl.style.display =\n",
              "          google.colab.kernel.accessAllowed ? 'block' : 'none';\n",
              "\n",
              "        async function convertToInteractive(key) {\n",
              "          const element = document.querySelector('#df-f765e01c-67a2-4513-913c-9e53bbd67bfc');\n",
              "          const dataTable =\n",
              "            await google.colab.kernel.invokeFunction('convertToInteractive',\n",
              "                                                     [key], {});\n",
              "          if (!dataTable) return;\n",
              "\n",
              "          const docLinkHtml = 'Like what you see? Visit the ' +\n",
              "            '<a target=\"_blank\" href=https://colab.research.google.com/notebooks/data_table.ipynb>data table notebook</a>'\n",
              "            + ' to learn more about interactive tables.';\n",
              "          element.innerHTML = '';\n",
              "          dataTable['output_type'] = 'display_data';\n",
              "          await google.colab.output.renderOutput(dataTable, element);\n",
              "          const docLink = document.createElement('div');\n",
              "          docLink.innerHTML = docLinkHtml;\n",
              "          element.appendChild(docLink);\n",
              "        }\n",
              "      </script>\n",
              "    </div>\n",
              "  </div>\n",
              "  "
            ]
          },
          "metadata": {},
          "execution_count": 6
        }
      ]
    },
    {
      "cell_type": "markdown",
      "source": [
        "# **2. 데이터 탐색** <br>"
      ],
      "metadata": {
        "id": "xok7txM4W_po"
      }
    },
    {
      "cell_type": "markdown",
      "metadata": {
        "id": "m-vm87p12859"
      },
      "source": [
        "---\n",
        "데이터 탐색 파트는 아래 순서로 진행됨<br>\n",
        "2-1.   중복데이터 처리<br>\n",
        "2-2.   종속변수 생성<br>\n",
        "2-3.   개별 분포 확인<br>\n",
        "2-4.   소요시간에 따른 분포 확인<br>\n",
        "2-5.   상관관계 확인<br>\n",
        "\n",
        "---\n"
      ]
    },
    {
      "cell_type": "markdown",
      "metadata": {
        "id": "NOT2bQkPL-a0"
      },
      "source": [
        "### 2-1. 중복데이터 처리"
      ]
    },
    {
      "cell_type": "code",
      "execution_count": null,
      "metadata": {
        "colab": {
          "base_uri": "https://localhost:8080/"
        },
        "id": "CzmUFRenLmFp",
        "outputId": "1322bde8-d742-4169-9975-af0cd2e2e991"
      },
      "outputs": [
        {
          "output_type": "execute_result",
          "data": {
            "text/plain": [
              "(27150, 10)"
            ]
          },
          "metadata": {},
          "execution_count": 7
        }
      ],
      "source": [
        "# 전체 데이터 수\n"
      ]
    },
    {
      "cell_type": "code",
      "execution_count": null,
      "metadata": {
        "colab": {
          "base_uri": "https://localhost:8080/"
        },
        "id": "QTKtoyFlNbIQ",
        "outputId": "6b2d9078-a0d7-495d-c0b9-c2cb4e2125e1"
      },
      "outputs": [
        {
          "output_type": "execute_result",
          "data": {
            "text/plain": [
              "(9, 10)"
            ]
          },
          "metadata": {},
          "execution_count": 52
        }
      ],
      "source": [
        " # 중복 데이터 수\n"
      ]
    },
    {
      "cell_type": "code",
      "execution_count": null,
      "metadata": {
        "colab": {
          "base_uri": "https://localhost:8080/"
        },
        "id": "tYK8ivRFNj_G",
        "outputId": "fd55244b-97f8-4ca5-e278-dd540a9feaae"
      },
      "outputs": [
        {
          "output_type": "execute_result",
          "data": {
            "text/plain": [
              "(27141, 10)"
            ]
          },
          "metadata": {},
          "execution_count": 53
        }
      ],
      "source": [
        "# 중복 제거 후 데이터 수\n"
      ]
    },
    {
      "cell_type": "markdown",
      "source": [
        "### 2-2. 종속변수 생성"
      ],
      "metadata": {
        "id": "z7vUH6kfXZr1"
      }
    },
    {
      "cell_type": "markdown",
      "metadata": {
        "id": "QL-XREivIICH"
      },
      "source": [
        "\n",
        "  * 작업소요시간(분) = 작업종료시간 - 작업시작시간\n",
        "  * diff = work_end_dt - work_start_dt"
      ]
    },
    {
      "cell_type": "code",
      "execution_count": null,
      "metadata": {
        "colab": {
          "base_uri": "https://localhost:8080/",
          "height": 206
        },
        "id": "rlaYRu7LDVIY",
        "outputId": "27781bdd-8b10-4479-dac1-3dc93d0c6bd6"
      },
      "outputs": [
        {
          "output_type": "execute_result",
          "data": {
            "text/plain": [
              "   diff    WORK_START_DT       WORK_END_DT\n",
              "0    40  2017-01-02 7:00   2017-01-02 7:40\n",
              "1    40  2017-01-02 7:40   2017-01-02 8:20\n",
              "2    40  2017-01-02 8:20   2017-01-02 9:00\n",
              "3    40  2017-01-02 9:00   2017-01-02 9:40\n",
              "4    40  2017-01-02 9:40  2017-01-02 10:20"
            ],
            "text/html": [
              "\n",
              "  <div id=\"df-a3b59fce-50e4-495e-a8d7-a986c946e350\">\n",
              "    <div class=\"colab-df-container\">\n",
              "      <div>\n",
              "<style scoped>\n",
              "    .dataframe tbody tr th:only-of-type {\n",
              "        vertical-align: middle;\n",
              "    }\n",
              "\n",
              "    .dataframe tbody tr th {\n",
              "        vertical-align: top;\n",
              "    }\n",
              "\n",
              "    .dataframe thead th {\n",
              "        text-align: right;\n",
              "    }\n",
              "</style>\n",
              "<table border=\"1\" class=\"dataframe\">\n",
              "  <thead>\n",
              "    <tr style=\"text-align: right;\">\n",
              "      <th></th>\n",
              "      <th>diff</th>\n",
              "      <th>WORK_START_DT</th>\n",
              "      <th>WORK_END_DT</th>\n",
              "    </tr>\n",
              "  </thead>\n",
              "  <tbody>\n",
              "    <tr>\n",
              "      <th>0</th>\n",
              "      <td>40</td>\n",
              "      <td>2017-01-02 7:00</td>\n",
              "      <td>2017-01-02 7:40</td>\n",
              "    </tr>\n",
              "    <tr>\n",
              "      <th>1</th>\n",
              "      <td>40</td>\n",
              "      <td>2017-01-02 7:40</td>\n",
              "      <td>2017-01-02 8:20</td>\n",
              "    </tr>\n",
              "    <tr>\n",
              "      <th>2</th>\n",
              "      <td>40</td>\n",
              "      <td>2017-01-02 8:20</td>\n",
              "      <td>2017-01-02 9:00</td>\n",
              "    </tr>\n",
              "    <tr>\n",
              "      <th>3</th>\n",
              "      <td>40</td>\n",
              "      <td>2017-01-02 9:00</td>\n",
              "      <td>2017-01-02 9:40</td>\n",
              "    </tr>\n",
              "    <tr>\n",
              "      <th>4</th>\n",
              "      <td>40</td>\n",
              "      <td>2017-01-02 9:40</td>\n",
              "      <td>2017-01-02 10:20</td>\n",
              "    </tr>\n",
              "  </tbody>\n",
              "</table>\n",
              "</div>\n",
              "      <button class=\"colab-df-convert\" onclick=\"convertToInteractive('df-a3b59fce-50e4-495e-a8d7-a986c946e350')\"\n",
              "              title=\"Convert this dataframe to an interactive table.\"\n",
              "              style=\"display:none;\">\n",
              "        \n",
              "  <svg xmlns=\"http://www.w3.org/2000/svg\" height=\"24px\"viewBox=\"0 0 24 24\"\n",
              "       width=\"24px\">\n",
              "    <path d=\"M0 0h24v24H0V0z\" fill=\"none\"/>\n",
              "    <path d=\"M18.56 5.44l.94 2.06.94-2.06 2.06-.94-2.06-.94-.94-2.06-.94 2.06-2.06.94zm-11 1L8.5 8.5l.94-2.06 2.06-.94-2.06-.94L8.5 2.5l-.94 2.06-2.06.94zm10 10l.94 2.06.94-2.06 2.06-.94-2.06-.94-.94-2.06-.94 2.06-2.06.94z\"/><path d=\"M17.41 7.96l-1.37-1.37c-.4-.4-.92-.59-1.43-.59-.52 0-1.04.2-1.43.59L10.3 9.45l-7.72 7.72c-.78.78-.78 2.05 0 2.83L4 21.41c.39.39.9.59 1.41.59.51 0 1.02-.2 1.41-.59l7.78-7.78 2.81-2.81c.8-.78.8-2.07 0-2.86zM5.41 20L4 18.59l7.72-7.72 1.47 1.35L5.41 20z\"/>\n",
              "  </svg>\n",
              "      </button>\n",
              "      \n",
              "  <style>\n",
              "    .colab-df-container {\n",
              "      display:flex;\n",
              "      flex-wrap:wrap;\n",
              "      gap: 12px;\n",
              "    }\n",
              "\n",
              "    .colab-df-convert {\n",
              "      background-color: #E8F0FE;\n",
              "      border: none;\n",
              "      border-radius: 50%;\n",
              "      cursor: pointer;\n",
              "      display: none;\n",
              "      fill: #1967D2;\n",
              "      height: 32px;\n",
              "      padding: 0 0 0 0;\n",
              "      width: 32px;\n",
              "    }\n",
              "\n",
              "    .colab-df-convert:hover {\n",
              "      background-color: #E2EBFA;\n",
              "      box-shadow: 0px 1px 2px rgba(60, 64, 67, 0.3), 0px 1px 3px 1px rgba(60, 64, 67, 0.15);\n",
              "      fill: #174EA6;\n",
              "    }\n",
              "\n",
              "    [theme=dark] .colab-df-convert {\n",
              "      background-color: #3B4455;\n",
              "      fill: #D2E3FC;\n",
              "    }\n",
              "\n",
              "    [theme=dark] .colab-df-convert:hover {\n",
              "      background-color: #434B5C;\n",
              "      box-shadow: 0px 1px 3px 1px rgba(0, 0, 0, 0.15);\n",
              "      filter: drop-shadow(0px 1px 2px rgba(0, 0, 0, 0.3));\n",
              "      fill: #FFFFFF;\n",
              "    }\n",
              "  </style>\n",
              "\n",
              "      <script>\n",
              "        const buttonEl =\n",
              "          document.querySelector('#df-a3b59fce-50e4-495e-a8d7-a986c946e350 button.colab-df-convert');\n",
              "        buttonEl.style.display =\n",
              "          google.colab.kernel.accessAllowed ? 'block' : 'none';\n",
              "\n",
              "        async function convertToInteractive(key) {\n",
              "          const element = document.querySelector('#df-a3b59fce-50e4-495e-a8d7-a986c946e350');\n",
              "          const dataTable =\n",
              "            await google.colab.kernel.invokeFunction('convertToInteractive',\n",
              "                                                     [key], {});\n",
              "          if (!dataTable) return;\n",
              "\n",
              "          const docLinkHtml = 'Like what you see? Visit the ' +\n",
              "            '<a target=\"_blank\" href=https://colab.research.google.com/notebooks/data_table.ipynb>data table notebook</a>'\n",
              "            + ' to learn more about interactive tables.';\n",
              "          element.innerHTML = '';\n",
              "          dataTable['output_type'] = 'display_data';\n",
              "          await google.colab.output.renderOutput(dataTable, element);\n",
              "          const docLink = document.createElement('div');\n",
              "          docLink.innerHTML = docLinkHtml;\n",
              "          element.appendChild(docLink);\n",
              "        }\n",
              "      </script>\n",
              "    </div>\n",
              "  </div>\n",
              "  "
            ]
          },
          "metadata": {},
          "execution_count": 54
        }
      ],
      "source": [
        "#종속 변수 생성 \n"
      ]
    },
    {
      "cell_type": "markdown",
      "metadata": {
        "id": "5pbsYlCvkspw"
      },
      "source": [
        "### 2-3. 개별 분포 확인"
      ]
    },
    {
      "cell_type": "markdown",
      "metadata": {
        "id": "uNIVj_oRn6hc"
      },
      "source": [
        "*  수치형 변수 분포 확인(histogram)"
      ]
    },
    {
      "cell_type": "code",
      "execution_count": null,
      "metadata": {
        "colab": {
          "base_uri": "https://localhost:8080/",
          "height": 1000
        },
        "id": "qV46YLBZRZ1I",
        "outputId": "f871b546-9964-4b74-d619-4dcfd5e76d38"
      },
      "outputs": [
        {
          "output_type": "display_data",
          "data": {
            "text/plain": [
              "<Figure size 432x288 with 1 Axes>"
            ],
            "image/png": "[encoded data removed]"
          },
          "metadata": {
            "needs_background": "light"
          }
        },
        {
          "output_type": "display_data",
          "data": {
            "text/plain": [
              "<Figure size 432x288 with 1 Axes>"
            ],
            "image/png": "[encoded data removed]"
          },
          "metadata": {
            "needs_background": "light"
          }
        },
        {
          "output_type": "display_data",
          "data": {
            "text/plain": [
              "<Figure size 432x288 with 1 Axes>"
            ],
            "image/png": "[encoded data removed]"
          },
          "metadata": {
            "needs_background": "light"
          }
        },
        {
          "output_type": "display_data",
          "data": {
            "text/plain": [
              "<Figure size 432x288 with 1 Axes>"
            ],
            "image/png": "[encoded data removed]"
          },
          "metadata": {
            "needs_background": "light"
          }
        },
        {
          "output_type": "display_data",
          "data": {
            "text/plain": [
              "<Figure size 432x288 with 1 Axes>"
            ],
            "image/png": "[encoded data removed]"
          },
          "metadata": {
            "needs_background": "light"
          }
        },
        {
          "output_type": "display_data",
          "data": {
            "text/plain": [
              "<Figure size 432x288 with 1 Axes>"
            ],
            "image/png": "[encoded data removed]"
          },
          "metadata": {
            "needs_background": "light"
          }
        }
      ],
      "source": [
        "# 모든 수치형 변수에 대해 히스토그램 확인\n"
      ]
    },
    {
      "cell_type": "markdown",
      "metadata": {
        "id": "ovb2lPopmNNx"
      },
      "source": [
        "* countplot 함수를 이용하여 개별 분포 자세히 확인\n",
        "  * countplot 함수의 경우 개별 모든 값을 기준으로 count를 하여 bar-plot을 그리기 때문에 너무 많은 수준을 갖는 컬럼(이 경우에는 diff)에 대해서는 그리지 않는 것을 권장\n"
      ]
    },
    {
      "cell_type": "code",
      "execution_count": null,
      "metadata": {
        "id": "SSrtJfIwmNZI",
        "colab": {
          "base_uri": "https://localhost:8080/",
          "height": 352
        },
        "outputId": "3a2b58da-3446-4a74-f763-59c0cd03acf3"
      },
      "outputs": [
        {
          "output_type": "stream",
          "name": "stderr",
          "text": [
            "/usr/local/lib/python3.7/dist-packages/seaborn/_decorators.py:43: FutureWarning: Pass the following variable as a keyword arg: x. From version 0.12, the only valid positional argument will be `data`, and passing other arguments without an explicit keyword will result in an error or misinterpretation.\n",
            "  FutureWarning\n"
          ]
        },
        {
          "output_type": "execute_result",
          "data": {
            "text/plain": [
              "<matplotlib.axes._subplots.AxesSubplot at 0x7f306d174750>"
            ]
          },
          "metadata": {},
          "execution_count": 19
        },
        {
          "output_type": "display_data",
          "data": {
            "text/plain": [
              "<Figure size 432x288 with 1 Axes>"
            ],
            "image/png": "[encoded data removed]"
          },
          "metadata": {
            "needs_background": "light"
          }
        }
      ],
      "source": [
        "#전체 투입수량 분포\n"
      ]
    },
    {
      "cell_type": "markdown",
      "source": [
        "* 값 필터링을 통해 개별 분포 자세히 확인\n",
        "  * 소요시간(diff) : 0분초과 120분 이하 필터링"
      ],
      "metadata": {
        "id": "jrHrKUZjgKcm"
      }
    },
    {
      "cell_type": "code",
      "source": [
        "#종속변수 - diff 기준 분포 확인 \n"
      ],
      "metadata": {
        "colab": {
          "base_uri": "https://localhost:8080/",
          "height": 285
        },
        "id": "nByjQBzXgOTl",
        "outputId": "a5dcff4f-996a-496e-8d82-62138fe6f4f3"
      },
      "execution_count": null,
      "outputs": [
        {
          "output_type": "execute_result",
          "data": {
            "text/plain": [
              "<matplotlib.axes._subplots.AxesSubplot at 0x7f306f18d990>"
            ]
          },
          "metadata": {},
          "execution_count": 20
        },
        {
          "output_type": "display_data",
          "data": {
            "text/plain": [
              "<Figure size 1080x288 with 2 Axes>"
            ],
            "image/png": "[encoded data removed]"
          },
          "metadata": {
            "needs_background": "light"
          }
        }
      ]
    },
    {
      "cell_type": "markdown",
      "metadata": {
        "id": "Ykife1NbITKb"
      },
      "source": [
        "*  범주형 변수 분포 확인\n",
        "  * FACTORY의 경우 모두 1개의 값('F1')을 가짐\n",
        "\n"
      ]
    },
    {
      "cell_type": "code",
      "execution_count": null,
      "metadata": {
        "id": "WmpR3zWrITTY",
        "colab": {
          "base_uri": "https://localhost:8080/",
          "height": 824
        },
        "outputId": "89d4ca95-93fa-4610-de5f-34b679ac8324"
      },
      "outputs": [
        {
          "output_type": "display_data",
          "data": {
            "text/plain": [
              "<Figure size 432x288 with 1 Axes>"
            ],
            "image/png": "[encoded data removed]"
          },
          "metadata": {
            "needs_background": "light"
          }
        },
        {
          "output_type": "display_data",
          "data": {
            "text/plain": [
              "<Figure size 432x288 with 1 Axes>"
            ],
            "image/png": "[encoded data removed]"
          },
          "metadata": {
            "needs_background": "light"
          }
        },
        {
          "output_type": "display_data",
          "data": {
            "text/plain": [
              "<Figure size 432x288 with 1 Axes>"
            ],
            "image/png": "[encoded data removed]"
          },
          "metadata": {
            "needs_background": "light"
          }
        }
      ],
      "source": [
        "# 모든 범주형 변수에 대해 히스토그램 확인\n",
        "\n",
        "\n"
      ]
    },
    {
      "cell_type": "markdown",
      "source": [
        "### 2-4. 소요시간에 따른 분포 확인"
      ],
      "metadata": {
        "id": "7Ce4MmCylL-r"
      }
    },
    {
      "cell_type": "markdown",
      "source": [
        "* 수치형 변수와 소요시간 간 분포 확인(scatter-plot)"
      ],
      "metadata": {
        "id": "UARRFW_sZKRh"
      }
    },
    {
      "cell_type": "code",
      "source": [
        "# 모든 수치형 변수에 대해 산점도 확인\n"
      ],
      "metadata": {
        "colab": {
          "base_uri": "https://localhost:8080/",
          "height": 1000
        },
        "id": "5jcVdG7NlMG2",
        "outputId": "8f75df9b-0708-435d-c834-a2fa1e0ff22b"
      },
      "execution_count": null,
      "outputs": [
        {
          "output_type": "display_data",
          "data": {
            "text/plain": [
              "<Figure size 432x288 with 1 Axes>"
            ],
            "image/png": "[encoded data removed]"
          },
          "metadata": {
            "needs_background": "light"
          }
        },
        {
          "output_type": "display_data",
          "data": {
            "text/plain": [
              "<Figure size 432x288 with 1 Axes>"
            ],
            "image/png": "[encoded data removed]"
          },
          "metadata": {
            "needs_background": "light"
          }
        },
        {
          "output_type": "display_data",
          "data": {
            "text/plain": [
              "<Figure size 432x288 with 1 Axes>"
            ],
            "image/png": "[encoded data removed]"
          },
          "metadata": {
            "needs_background": "light"
          }
        },
        {
          "output_type": "display_data",
          "data": {
            "text/plain": [
              "<Figure size 432x288 with 1 Axes>"
            ],
            "image/png": "[encoded data removed]"
          },
          "metadata": {
            "needs_background": "light"
          }
        },
        {
          "output_type": "display_data",
          "data": {
            "text/plain": [
              "<Figure size 432x288 with 1 Axes>"
            ],
            "image/png": "[encoded data removed]"
          },
          "metadata": {
            "needs_background": "light"
          }
        },
        {
          "output_type": "display_data",
          "data": {
            "text/plain": [
              "<Figure size 432x288 with 1 Axes>"
            ],
            "image/png": "[encoded data removed]"
          },
          "metadata": {
            "needs_background": "light"
          }
        }
      ]
    },
    {
      "cell_type": "markdown",
      "metadata": {
        "id": "OLj1mcfKrLLD"
      },
      "source": [
        "* 범주형 변수의 소요시간 분포 확인(box-plot)\n",
        "  * 그룹 별로 소요시간 분포가 차이가 나는지 상자그림으로 확인\n",
        "  * 소요시간 0분 ~ 120분 데이터를 기준으로 확인"
      ]
    },
    {
      "cell_type": "code",
      "execution_count": null,
      "metadata": {
        "id": "KTSq5TvNry0d",
        "colab": {
          "base_uri": "https://localhost:8080/",
          "height": 227
        },
        "outputId": "45355b29-eb26-4db5-994d-74c65468b7a3"
      },
      "outputs": [
        {
          "output_type": "execute_result",
          "data": {
            "text/plain": [
              "<matplotlib.axes._subplots.AxesSubplot at 0x7f307128ad50>"
            ]
          },
          "metadata": {},
          "execution_count": 26
        },
        {
          "output_type": "display_data",
          "data": {
            "text/plain": [
              "<Figure size 1440x288 with 3 Axes>"
            ],
            "image/png": "[encoded data removed]"
          },
          "metadata": {
            "needs_background": "light"
          }
        }
      ],
      "source": [
        "#범주형 변수의 소요시간 분포 확인 (box-plot)\n",
        "# 3개의 plot 그리기, # 가로폭 설정\n"
      ]
    },
    {
      "cell_type": "markdown",
      "source": [
        "* 수치형 변수와 소요시간 간 산점도에 범주형 변수 추가하여 확인 (scatter-plot)\n",
        "  * 범주형 변수 중 diff 분포에 차이를 보였던 강종분류(STEEL_CATEGORY)를 색상으로 하여 산점도 확인"
      ],
      "metadata": {
        "id": "zQoOF2MZqfip"
      }
    },
    {
      "cell_type": "code",
      "source": [
        "#수치형 변수와 소요시간 간 산점도에 범주형 변수 추가하여 확인\n"
      ],
      "metadata": {
        "colab": {
          "base_uri": "https://localhost:8080/",
          "height": 1000
        },
        "id": "gpeYpRr8qfD5",
        "outputId": "da09b190-64d2-4b91-8d38-0314ff03d819"
      },
      "execution_count": null,
      "outputs": [
        {
          "output_type": "display_data",
          "data": {
            "text/plain": [
              "<Figure size 432x288 with 1 Axes>"
            ],
            "image/png": "[encoded data removed]"
          },
          "metadata": {
            "needs_background": "light"
          }
        },
        {
          "output_type": "display_data",
          "data": {
            "text/plain": [
              "<Figure size 432x288 with 1 Axes>"
            ],
            "image/png": "[encoded data removed]"
          },
          "metadata": {
            "needs_background": "light"
          }
        },
        {
          "output_type": "display_data",
          "data": {
            "text/plain": [
              "<Figure size 432x288 with 1 Axes>"
            ],
            "image/png": "[encoded data removed]"
          },
          "metadata": {
            "needs_background": "light"
          }
        },
        {
          "output_type": "display_data",
          "data": {
            "text/plain": [
              "<Figure size 432x288 with 1 Axes>"
            ],
            "image/png": "[encoded data removed]"
          },
          "metadata": {
            "needs_background": "light"
          }
        },
        {
          "output_type": "display_data",
          "data": {
            "text/plain": [
              "<Figure size 432x288 with 1 Axes>"
            ],
            "image/png": "[encoded data removed]"
          },
          "metadata": {
            "needs_background": "light"
          }
        },
        {
          "output_type": "display_data",
          "data": {
            "text/plain": [
              "<Figure size 432x288 with 1 Axes>"
            ],
            "image/png": "[encoded data removed]"
          },
          "metadata": {
            "needs_background": "light"
          }
        }
      ]
    },
    {
      "cell_type": "markdown",
      "metadata": {
        "id": "fdkLDPgjulr7"
      },
      "source": [
        "### 2-5. 상관관계 확인"
      ]
    },
    {
      "cell_type": "markdown",
      "source": [
        "* **상관계수** : 두 변수 사이의 직선 관계를 나타내는 지표\n",
        "* -1~1 사이 값을 가지며 절대값이 1에 가까울수록 강한 선형 관계를 의미\n",
        "  * 투입/생산/목표 **외경** 간 상관관계 높음\n",
        "  * 투입/생산 **길이** 간 상관관계 높음\n",
        "  * 투입/생산 **중량** 간 상관관계 높음\n",
        "<figure>\n",
        "<left>\n",
        "<img src='https://www.datadeck.com/en/blog/wp-content/uploads/2018/11/cor-examples.png' />\n",
        "</left>\n",
        "</figure>\n"
      ],
      "metadata": {
        "id": "ae3uYXjvZ1oN"
      }
    },
    {
      "cell_type": "code",
      "execution_count": null,
      "metadata": {
        "colab": {
          "base_uri": "https://localhost:8080/",
          "height": 1000
        },
        "id": "ijX6hGLP3Dqi",
        "outputId": "4b28da88-7699-45df-f870-045c54243dce"
      },
      "outputs": [
        {
          "output_type": "execute_result",
          "data": {
            "text/plain": [
              "              INPUT_ED  INPUT_LENGTH  INPUT_QTY  DIRECTION_ED  OUTPUT_ED  \\\n",
              "INPUT_ED       1.00000      -0.62267   -0.13687       0.99855    0.71561   \n",
              "INPUT_LENGTH  -0.62267       1.00000   -0.02741      -0.62209   -0.45215   \n",
              "INPUT_QTY     -0.13687      -0.02741    1.00000      -0.13510   -0.09600   \n",
              "DIRECTION_ED   0.99855      -0.62209   -0.13510       1.00000    0.71670   \n",
              "OUTPUT_ED      0.71561      -0.45215   -0.09600       0.71670    1.00000   \n",
              "diff          -0.08587       0.04079    0.08367      -0.08464   -0.06076   \n",
              "\n",
              "                 diff  \n",
              "INPUT_ED     -0.08587  \n",
              "INPUT_LENGTH  0.04079  \n",
              "INPUT_QTY     0.08367  \n",
              "DIRECTION_ED -0.08464  \n",
              "OUTPUT_ED    -0.06076  \n",
              "diff          1.00000  "
            ],
            "text/html": [
              "\n",
              "  <div id=\"df-01070150-cad4-4530-a97b-dc4dc0fb8244\">\n",
              "    <div class=\"colab-df-container\">\n",
              "      <div>\n",
              "<style scoped>\n",
              "    .dataframe tbody tr th:only-of-type {\n",
              "        vertical-align: middle;\n",
              "    }\n",
              "\n",
              "    .dataframe tbody tr th {\n",
              "        vertical-align: top;\n",
              "    }\n",
              "\n",
              "    .dataframe thead th {\n",
              "        text-align: right;\n",
              "    }\n",
              "</style>\n",
              "<table border=\"1\" class=\"dataframe\">\n",
              "  <thead>\n",
              "    <tr style=\"text-align: right;\">\n",
              "      <th></th>\n",
              "      <th>INPUT_ED</th>\n",
              "      <th>INPUT_LENGTH</th>\n",
              "      <th>INPUT_QTY</th>\n",
              "      <th>DIRECTION_ED</th>\n",
              "      <th>OUTPUT_ED</th>\n",
              "      <th>diff</th>\n",
              "    </tr>\n",
              "  </thead>\n",
              "  <tbody>\n",
              "    <tr>\n",
              "      <th>INPUT_ED</th>\n",
              "      <td>1.00000</td>\n",
              "      <td>-0.62267</td>\n",
              "      <td>-0.13687</td>\n",
              "      <td>0.99855</td>\n",
              "      <td>0.71561</td>\n",
              "      <td>-0.08587</td>\n",
              "    </tr>\n",
              "    <tr>\n",
              "      <th>INPUT_LENGTH</th>\n",
              "      <td>-0.62267</td>\n",
              "      <td>1.00000</td>\n",
              "      <td>-0.02741</td>\n",
              "      <td>-0.62209</td>\n",
              "      <td>-0.45215</td>\n",
              "      <td>0.04079</td>\n",
              "    </tr>\n",
              "    <tr>\n",
              "      <th>INPUT_QTY</th>\n",
              "      <td>-0.13687</td>\n",
              "      <td>-0.02741</td>\n",
              "      <td>1.00000</td>\n",
              "      <td>-0.13510</td>\n",
              "      <td>-0.09600</td>\n",
              "      <td>0.08367</td>\n",
              "    </tr>\n",
              "    <tr>\n",
              "      <th>DIRECTION_ED</th>\n",
              "      <td>0.99855</td>\n",
              "      <td>-0.62209</td>\n",
              "      <td>-0.13510</td>\n",
              "      <td>1.00000</td>\n",
              "      <td>0.71670</td>\n",
              "      <td>-0.08464</td>\n",
              "    </tr>\n",
              "    <tr>\n",
              "      <th>OUTPUT_ED</th>\n",
              "      <td>0.71561</td>\n",
              "      <td>-0.45215</td>\n",
              "      <td>-0.09600</td>\n",
              "      <td>0.71670</td>\n",
              "      <td>1.00000</td>\n",
              "      <td>-0.06076</td>\n",
              "    </tr>\n",
              "    <tr>\n",
              "      <th>diff</th>\n",
              "      <td>-0.08587</td>\n",
              "      <td>0.04079</td>\n",
              "      <td>0.08367</td>\n",
              "      <td>-0.08464</td>\n",
              "      <td>-0.06076</td>\n",
              "      <td>1.00000</td>\n",
              "    </tr>\n",
              "  </tbody>\n",
              "</table>\n",
              "</div>\n",
              "      <button class=\"colab-df-convert\" onclick=\"convertToInteractive('df-01070150-cad4-4530-a97b-dc4dc0fb8244')\"\n",
              "              title=\"Convert this dataframe to an interactive table.\"\n",
              "              style=\"display:none;\">\n",
              "        \n",
              "  <svg xmlns=\"http://www.w3.org/2000/svg\" height=\"24px\"viewBox=\"0 0 24 24\"\n",
              "       width=\"24px\">\n",
              "    <path d=\"M0 0h24v24H0V0z\" fill=\"none\"/>\n",
              "    <path d=\"M18.56 5.44l.94 2.06.94-2.06 2.06-.94-2.06-.94-.94-2.06-.94 2.06-2.06.94zm-11 1L8.5 8.5l.94-2.06 2.06-.94-2.06-.94L8.5 2.5l-.94 2.06-2.06.94zm10 10l.94 2.06.94-2.06 2.06-.94-2.06-.94-.94-2.06-.94 2.06-2.06.94z\"/><path d=\"M17.41 7.96l-1.37-1.37c-.4-.4-.92-.59-1.43-.59-.52 0-1.04.2-1.43.59L10.3 9.45l-7.72 7.72c-.78.78-.78 2.05 0 2.83L4 21.41c.39.39.9.59 1.41.59.51 0 1.02-.2 1.41-.59l7.78-7.78 2.81-2.81c.8-.78.8-2.07 0-2.86zM5.41 20L4 18.59l7.72-7.72 1.47 1.35L5.41 20z\"/>\n",
              "  </svg>\n",
              "      </button>\n",
              "      \n",
              "  <style>\n",
              "    .colab-df-container {\n",
              "      display:flex;\n",
              "      flex-wrap:wrap;\n",
              "      gap: 12px;\n",
              "    }\n",
              "\n",
              "    .colab-df-convert {\n",
              "      background-color: #E8F0FE;\n",
              "      border: none;\n",
              "      border-radius: 50%;\n",
              "      cursor: pointer;\n",
              "      display: none;\n",
              "      fill: #1967D2;\n",
              "      height: 32px;\n",
              "      padding: 0 0 0 0;\n",
              "      width: 32px;\n",
              "    }\n",
              "\n",
              "    .colab-df-convert:hover {\n",
              "      background-color: #E2EBFA;\n",
              "      box-shadow: 0px 1px 2px rgba(60, 64, 67, 0.3), 0px 1px 3px 1px rgba(60, 64, 67, 0.15);\n",
              "      fill: #174EA6;\n",
              "    }\n",
              "\n",
              "    [theme=dark] .colab-df-convert {\n",
              "      background-color: #3B4455;\n",
              "      fill: #D2E3FC;\n",
              "    }\n",
              "\n",
              "    [theme=dark] .colab-df-convert:hover {\n",
              "      background-color: #434B5C;\n",
              "      box-shadow: 0px 1px 3px 1px rgba(0, 0, 0, 0.15);\n",
              "      filter: drop-shadow(0px 1px 2px rgba(0, 0, 0, 0.3));\n",
              "      fill: #FFFFFF;\n",
              "    }\n",
              "  </style>\n",
              "\n",
              "      <script>\n",
              "        const buttonEl =\n",
              "          document.querySelector('#df-01070150-cad4-4530-a97b-dc4dc0fb8244 button.colab-df-convert');\n",
              "        buttonEl.style.display =\n",
              "          google.colab.kernel.accessAllowed ? 'block' : 'none';\n",
              "\n",
              "        async function convertToInteractive(key) {\n",
              "          const element = document.querySelector('#df-01070150-cad4-4530-a97b-dc4dc0fb8244');\n",
              "          const dataTable =\n",
              "            await google.colab.kernel.invokeFunction('convertToInteractive',\n",
              "                                                     [key], {});\n",
              "          if (!dataTable) return;\n",
              "\n",
              "          const docLinkHtml = 'Like what you see? Visit the ' +\n",
              "            '<a target=\"_blank\" href=https://colab.research.google.com/notebooks/data_table.ipynb>data table notebook</a>'\n",
              "            + ' to learn more about interactive tables.';\n",
              "          element.innerHTML = '';\n",
              "          dataTable['output_type'] = 'display_data';\n",
              "          await google.colab.output.renderOutput(dataTable, element);\n",
              "          const docLink = document.createElement('div');\n",
              "          docLink.innerHTML = docLinkHtml;\n",
              "          element.appendChild(docLink);\n",
              "        }\n",
              "      </script>\n",
              "    </div>\n",
              "  </div>\n",
              "  "
            ]
          },
          "metadata": {},
          "execution_count": 28
        },
        {
          "output_type": "display_data",
          "data": {
            "text/plain": [
              "<Figure size 1440x1440 with 2 Axes>"
            ],
            "image/png": "[encoded data removed]"
          },
          "metadata": {
            "needs_background": "light"
          }
        }
      ],
      "source": [
        "#상관계수 및 상관관계 확인 (히트맵)\n"
      ]
    },
    {
      "cell_type": "markdown",
      "source": [
        "# **3. 데이터 변환** "
      ],
      "metadata": {
        "id": "_CxXqF02bVVo"
      }
    },
    {
      "cell_type": "markdown",
      "metadata": {
        "id": "4CaUYUc83ELL"
      },
      "source": [
        "---\n",
        "데이터 변환 파트는 아래 순서로 진행하며 모델에 사용할 최종 데이터셋을 생성함<br>\n",
        "3-1.   컬럼 filtering<br>\n",
        "3-2.   row filtering<br>\n",
        "3-3.   파생변수 생성<br>\n",
        "3-4.   다중공선성 제거<br>\n",
        "3-5.   최종 확인<br>\n",
        "\n",
        "---"
      ]
    },
    {
      "cell_type": "markdown",
      "source": [
        "### 3-1. 컬럼 filtering"
      ],
      "metadata": {
        "id": "F_Md58LabnUC"
      }
    },
    {
      "cell_type": "markdown",
      "metadata": {
        "id": "By31xMiM964a"
      },
      "source": [
        "\n",
        "* 날짜 및 소요시간 예측시 의미 없는 컬럼 삭제\n",
        "    * WORK_START_DT 의 경우 후에 사용할 예정임으로 남겨둠\n",
        "    * 삭제 : WORK_SHAPE / WORK_END_DT"
      ]
    },
    {
      "cell_type": "code",
      "execution_count": null,
      "metadata": {
        "colab": {
          "base_uri": "https://localhost:8080/",
          "height": 206
        },
        "id": "-EW0RBPHyqWm",
        "outputId": "30b8d3c4-b759-4754-aca4-094a0718e9db"
      },
      "outputs": [
        {
          "output_type": "execute_result",
          "data": {
            "text/plain": [
              "   INPUT_ED  INPUT_LENGTH  INPUT_QTY  DIRECTION_ED  OUTPUT_ED STEEL_CATEGORY  \\\n",
              "0 154.00000          7450          3     148.00000  148.50000           2929   \n",
              "1 154.00000          7450          3     148.00000  148.50000           2929   \n",
              "2 154.00000          7450          3     148.00000  148.50000           2929   \n",
              "3 154.00000          7450          3     148.00000  148.50000           2929   \n",
              "4 154.00000          7450          3     148.00000  148.50000           2929   \n",
              "\n",
              "     WORK_START_DT  diff  \n",
              "0  2017-01-02 7:00    40  \n",
              "1  2017-01-02 7:40    40  \n",
              "2  2017-01-02 8:20    40  \n",
              "3  2017-01-02 9:00    40  \n",
              "4  2017-01-02 9:40    40  "
            ],
            "text/html": [
              "\n",
              "  <div id=\"df-df8f4b86-d5c3-4e78-80bf-347bcdb34267\">\n",
              "    <div class=\"colab-df-container\">\n",
              "      <div>\n",
              "<style scoped>\n",
              "    .dataframe tbody tr th:only-of-type {\n",
              "        vertical-align: middle;\n",
              "    }\n",
              "\n",
              "    .dataframe tbody tr th {\n",
              "        vertical-align: top;\n",
              "    }\n",
              "\n",
              "    .dataframe thead th {\n",
              "        text-align: right;\n",
              "    }\n",
              "</style>\n",
              "<table border=\"1\" class=\"dataframe\">\n",
              "  <thead>\n",
              "    <tr style=\"text-align: right;\">\n",
              "      <th></th>\n",
              "      <th>INPUT_ED</th>\n",
              "      <th>INPUT_LENGTH</th>\n",
              "      <th>INPUT_QTY</th>\n",
              "      <th>DIRECTION_ED</th>\n",
              "      <th>OUTPUT_ED</th>\n",
              "      <th>STEEL_CATEGORY</th>\n",
              "      <th>WORK_START_DT</th>\n",
              "      <th>diff</th>\n",
              "    </tr>\n",
              "  </thead>\n",
              "  <tbody>\n",
              "    <tr>\n",
              "      <th>0</th>\n",
              "      <td>154.00000</td>\n",
              "      <td>7450</td>\n",
              "      <td>3</td>\n",
              "      <td>148.00000</td>\n",
              "      <td>148.50000</td>\n",
              "      <td>2929</td>\n",
              "      <td>2017-01-02 7:00</td>\n",
              "      <td>40</td>\n",
              "    </tr>\n",
              "    <tr>\n",
              "      <th>1</th>\n",
              "      <td>154.00000</td>\n",
              "      <td>7450</td>\n",
              "      <td>3</td>\n",
              "      <td>148.00000</td>\n",
              "      <td>148.50000</td>\n",
              "      <td>2929</td>\n",
              "      <td>2017-01-02 7:40</td>\n",
              "      <td>40</td>\n",
              "    </tr>\n",
              "    <tr>\n",
              "      <th>2</th>\n",
              "      <td>154.00000</td>\n",
              "      <td>7450</td>\n",
              "      <td>3</td>\n",
              "      <td>148.00000</td>\n",
              "      <td>148.50000</td>\n",
              "      <td>2929</td>\n",
              "      <td>2017-01-02 8:20</td>\n",
              "      <td>40</td>\n",
              "    </tr>\n",
              "    <tr>\n",
              "      <th>3</th>\n",
              "      <td>154.00000</td>\n",
              "      <td>7450</td>\n",
              "      <td>3</td>\n",
              "      <td>148.00000</td>\n",
              "      <td>148.50000</td>\n",
              "      <td>2929</td>\n",
              "      <td>2017-01-02 9:00</td>\n",
              "      <td>40</td>\n",
              "    </tr>\n",
              "    <tr>\n",
              "      <th>4</th>\n",
              "      <td>154.00000</td>\n",
              "      <td>7450</td>\n",
              "      <td>3</td>\n",
              "      <td>148.00000</td>\n",
              "      <td>148.50000</td>\n",
              "      <td>2929</td>\n",
              "      <td>2017-01-02 9:40</td>\n",
              "      <td>40</td>\n",
              "    </tr>\n",
              "  </tbody>\n",
              "</table>\n",
              "</div>\n",
              "      <button class=\"colab-df-convert\" onclick=\"convertToInteractive('df-df8f4b86-d5c3-4e78-80bf-347bcdb34267')\"\n",
              "              title=\"Convert this dataframe to an interactive table.\"\n",
              "              style=\"display:none;\">\n",
              "        \n",
              "  <svg xmlns=\"http://www.w3.org/2000/svg\" height=\"24px\"viewBox=\"0 0 24 24\"\n",
              "       width=\"24px\">\n",
              "    <path d=\"M0 0h24v24H0V0z\" fill=\"none\"/>\n",
              "    <path d=\"M18.56 5.44l.94 2.06.94-2.06 2.06-.94-2.06-.94-.94-2.06-.94 2.06-2.06.94zm-11 1L8.5 8.5l.94-2.06 2.06-.94-2.06-.94L8.5 2.5l-.94 2.06-2.06.94zm10 10l.94 2.06.94-2.06 2.06-.94-2.06-.94-.94-2.06-.94 2.06-2.06.94z\"/><path d=\"M17.41 7.96l-1.37-1.37c-.4-.4-.92-.59-1.43-.59-.52 0-1.04.2-1.43.59L10.3 9.45l-7.72 7.72c-.78.78-.78 2.05 0 2.83L4 21.41c.39.39.9.59 1.41.59.51 0 1.02-.2 1.41-.59l7.78-7.78 2.81-2.81c.8-.78.8-2.07 0-2.86zM5.41 20L4 18.59l7.72-7.72 1.47 1.35L5.41 20z\"/>\n",
              "  </svg>\n",
              "      </button>\n",
              "      \n",
              "  <style>\n",
              "    .colab-df-container {\n",
              "      display:flex;\n",
              "      flex-wrap:wrap;\n",
              "      gap: 12px;\n",
              "    }\n",
              "\n",
              "    .colab-df-convert {\n",
              "      background-color: #E8F0FE;\n",
              "      border: none;\n",
              "      border-radius: 50%;\n",
              "      cursor: pointer;\n",
              "      display: none;\n",
              "      fill: #1967D2;\n",
              "      height: 32px;\n",
              "      padding: 0 0 0 0;\n",
              "      width: 32px;\n",
              "    }\n",
              "\n",
              "    .colab-df-convert:hover {\n",
              "      background-color: #E2EBFA;\n",
              "      box-shadow: 0px 1px 2px rgba(60, 64, 67, 0.3), 0px 1px 3px 1px rgba(60, 64, 67, 0.15);\n",
              "      fill: #174EA6;\n",
              "    }\n",
              "\n",
              "    [theme=dark] .colab-df-convert {\n",
              "      background-color: #3B4455;\n",
              "      fill: #D2E3FC;\n",
              "    }\n",
              "\n",
              "    [theme=dark] .colab-df-convert:hover {\n",
              "      background-color: #434B5C;\n",
              "      box-shadow: 0px 1px 3px 1px rgba(0, 0, 0, 0.15);\n",
              "      filter: drop-shadow(0px 1px 2px rgba(0, 0, 0, 0.3));\n",
              "      fill: #FFFFFF;\n",
              "    }\n",
              "  </style>\n",
              "\n",
              "      <script>\n",
              "        const buttonEl =\n",
              "          document.querySelector('#df-df8f4b86-d5c3-4e78-80bf-347bcdb34267 button.colab-df-convert');\n",
              "        buttonEl.style.display =\n",
              "          google.colab.kernel.accessAllowed ? 'block' : 'none';\n",
              "\n",
              "        async function convertToInteractive(key) {\n",
              "          const element = document.querySelector('#df-df8f4b86-d5c3-4e78-80bf-347bcdb34267');\n",
              "          const dataTable =\n",
              "            await google.colab.kernel.invokeFunction('convertToInteractive',\n",
              "                                                     [key], {});\n",
              "          if (!dataTable) return;\n",
              "\n",
              "          const docLinkHtml = 'Like what you see? Visit the ' +\n",
              "            '<a target=\"_blank\" href=https://colab.research.google.com/notebooks/data_table.ipynb>data table notebook</a>'\n",
              "            + ' to learn more about interactive tables.';\n",
              "          element.innerHTML = '';\n",
              "          dataTable['output_type'] = 'display_data';\n",
              "          await google.colab.output.renderOutput(dataTable, element);\n",
              "          const docLink = document.createElement('div');\n",
              "          docLink.innerHTML = docLinkHtml;\n",
              "          element.appendChild(docLink);\n",
              "        }\n",
              "      </script>\n",
              "    </div>\n",
              "  </div>\n",
              "  "
            ]
          },
          "metadata": {},
          "execution_count": 57
        }
      ],
      "source": [
        "#불필요 컬럼 삭제 \n",
        "df_tmp = df_tmp.drop(['WORK_SHAPE','WORK_END_DT'], axis=1)\n",
        "df_tmp.head()"
      ]
    },
    {
      "cell_type": "markdown",
      "metadata": {
        "id": "qAMMbXNz5hf8"
      },
      "source": [
        "* 대부분 같은 값을 갖는 컬럼 삭제\n",
        "    * 1개의 값을 갖는 컬럼의 경우 소요시간에 영향을 미치지 않기 때문에 삭제\n",
        "    * 삭제 : FACTORY"
      ]
    },
    {
      "cell_type": "code",
      "execution_count": null,
      "metadata": {
        "colab": {
          "base_uri": "https://localhost:8080/",
          "height": 357
        },
        "id": "u5bJ2uXG5k7e",
        "outputId": "897202d3-089b-4db1-8be8-82f4e96c1ce5"
      },
      "outputs": [
        {
          "output_type": "execute_result",
          "data": {
            "text/plain": [
              "  WORK_SHAPE  INPUT_ED  INPUT_LENGTH  INPUT_QTY  DIRECTION_ED  OUTPUT_ED  \\\n",
              "0          1 154.00000          7450          3     148.00000  148.50000   \n",
              "1          1 154.00000          7450          3     148.00000  148.50000   \n",
              "2          1 154.00000          7450          3     148.00000  148.50000   \n",
              "3          1 154.00000          7450          3     148.00000  148.50000   \n",
              "4          1 154.00000          7450          3     148.00000  148.50000   \n",
              "\n",
              "  STEEL_CATEGORY    WORK_START_DT       WORK_END_DT  diff  \n",
              "0           2929  2017-01-02 7:00   2017-01-02 7:40    40  \n",
              "1           2929  2017-01-02 7:40   2017-01-02 8:20    40  \n",
              "2           2929  2017-01-02 8:20   2017-01-02 9:00    40  \n",
              "3           2929  2017-01-02 9:00   2017-01-02 9:40    40  \n",
              "4           2929  2017-01-02 9:40  2017-01-02 10:20    40  "
            ],
            "text/html": [
              "\n",
              "  <div id=\"df-60025863-97c2-4385-b08b-293678660e2f\">\n",
              "    <div class=\"colab-df-container\">\n",
              "      <div>\n",
              "<style scoped>\n",
              "    .dataframe tbody tr th:only-of-type {\n",
              "        vertical-align: middle;\n",
              "    }\n",
              "\n",
              "    .dataframe tbody tr th {\n",
              "        vertical-align: top;\n",
              "    }\n",
              "\n",
              "    .dataframe thead th {\n",
              "        text-align: right;\n",
              "    }\n",
              "</style>\n",
              "<table border=\"1\" class=\"dataframe\">\n",
              "  <thead>\n",
              "    <tr style=\"text-align: right;\">\n",
              "      <th></th>\n",
              "      <th>WORK_SHAPE</th>\n",
              "      <th>INPUT_ED</th>\n",
              "      <th>INPUT_LENGTH</th>\n",
              "      <th>INPUT_QTY</th>\n",
              "      <th>DIRECTION_ED</th>\n",
              "      <th>OUTPUT_ED</th>\n",
              "      <th>STEEL_CATEGORY</th>\n",
              "      <th>WORK_START_DT</th>\n",
              "      <th>WORK_END_DT</th>\n",
              "      <th>diff</th>\n",
              "    </tr>\n",
              "  </thead>\n",
              "  <tbody>\n",
              "    <tr>\n",
              "      <th>0</th>\n",
              "      <td>1</td>\n",
              "      <td>154.00000</td>\n",
              "      <td>7450</td>\n",
              "      <td>3</td>\n",
              "      <td>148.00000</td>\n",
              "      <td>148.50000</td>\n",
              "      <td>2929</td>\n",
              "      <td>2017-01-02 7:00</td>\n",
              "      <td>2017-01-02 7:40</td>\n",
              "      <td>40</td>\n",
              "    </tr>\n",
              "    <tr>\n",
              "      <th>1</th>\n",
              "      <td>1</td>\n",
              "      <td>154.00000</td>\n",
              "      <td>7450</td>\n",
              "      <td>3</td>\n",
              "      <td>148.00000</td>\n",
              "      <td>148.50000</td>\n",
              "      <td>2929</td>\n",
              "      <td>2017-01-02 7:40</td>\n",
              "      <td>2017-01-02 8:20</td>\n",
              "      <td>40</td>\n",
              "    </tr>\n",
              "    <tr>\n",
              "      <th>2</th>\n",
              "      <td>1</td>\n",
              "      <td>154.00000</td>\n",
              "      <td>7450</td>\n",
              "      <td>3</td>\n",
              "      <td>148.00000</td>\n",
              "      <td>148.50000</td>\n",
              "      <td>2929</td>\n",
              "      <td>2017-01-02 8:20</td>\n",
              "      <td>2017-01-02 9:00</td>\n",
              "      <td>40</td>\n",
              "    </tr>\n",
              "    <tr>\n",
              "      <th>3</th>\n",
              "      <td>1</td>\n",
              "      <td>154.00000</td>\n",
              "      <td>7450</td>\n",
              "      <td>3</td>\n",
              "      <td>148.00000</td>\n",
              "      <td>148.50000</td>\n",
              "      <td>2929</td>\n",
              "      <td>2017-01-02 9:00</td>\n",
              "      <td>2017-01-02 9:40</td>\n",
              "      <td>40</td>\n",
              "    </tr>\n",
              "    <tr>\n",
              "      <th>4</th>\n",
              "      <td>1</td>\n",
              "      <td>154.00000</td>\n",
              "      <td>7450</td>\n",
              "      <td>3</td>\n",
              "      <td>148.00000</td>\n",
              "      <td>148.50000</td>\n",
              "      <td>2929</td>\n",
              "      <td>2017-01-02 9:40</td>\n",
              "      <td>2017-01-02 10:20</td>\n",
              "      <td>40</td>\n",
              "    </tr>\n",
              "  </tbody>\n",
              "</table>\n",
              "</div>\n",
              "      <button class=\"colab-df-convert\" onclick=\"convertToInteractive('df-60025863-97c2-4385-b08b-293678660e2f')\"\n",
              "              title=\"Convert this dataframe to an interactive table.\"\n",
              "              style=\"display:none;\">\n",
              "        \n",
              "  <svg xmlns=\"http://www.w3.org/2000/svg\" height=\"24px\"viewBox=\"0 0 24 24\"\n",
              "       width=\"24px\">\n",
              "    <path d=\"M0 0h24v24H0V0z\" fill=\"none\"/>\n",
              "    <path d=\"M18.56 5.44l.94 2.06.94-2.06 2.06-.94-2.06-.94-.94-2.06-.94 2.06-2.06.94zm-11 1L8.5 8.5l.94-2.06 2.06-.94-2.06-.94L8.5 2.5l-.94 2.06-2.06.94zm10 10l.94 2.06.94-2.06 2.06-.94-2.06-.94-.94-2.06-.94 2.06-2.06.94z\"/><path d=\"M17.41 7.96l-1.37-1.37c-.4-.4-.92-.59-1.43-.59-.52 0-1.04.2-1.43.59L10.3 9.45l-7.72 7.72c-.78.78-.78 2.05 0 2.83L4 21.41c.39.39.9.59 1.41.59.51 0 1.02-.2 1.41-.59l7.78-7.78 2.81-2.81c.8-.78.8-2.07 0-2.86zM5.41 20L4 18.59l7.72-7.72 1.47 1.35L5.41 20z\"/>\n",
              "  </svg>\n",
              "      </button>\n",
              "      \n",
              "  <style>\n",
              "    .colab-df-container {\n",
              "      display:flex;\n",
              "      flex-wrap:wrap;\n",
              "      gap: 12px;\n",
              "    }\n",
              "\n",
              "    .colab-df-convert {\n",
              "      background-color: #E8F0FE;\n",
              "      border: none;\n",
              "      border-radius: 50%;\n",
              "      cursor: pointer;\n",
              "      display: none;\n",
              "      fill: #1967D2;\n",
              "      height: 32px;\n",
              "      padding: 0 0 0 0;\n",
              "      width: 32px;\n",
              "    }\n",
              "\n",
              "    .colab-df-convert:hover {\n",
              "      background-color: #E2EBFA;\n",
              "      box-shadow: 0px 1px 2px rgba(60, 64, 67, 0.3), 0px 1px 3px 1px rgba(60, 64, 67, 0.15);\n",
              "      fill: #174EA6;\n",
              "    }\n",
              "\n",
              "    [theme=dark] .colab-df-convert {\n",
              "      background-color: #3B4455;\n",
              "      fill: #D2E3FC;\n",
              "    }\n",
              "\n",
              "    [theme=dark] .colab-df-convert:hover {\n",
              "      background-color: #434B5C;\n",
              "      box-shadow: 0px 1px 3px 1px rgba(0, 0, 0, 0.15);\n",
              "      filter: drop-shadow(0px 1px 2px rgba(0, 0, 0, 0.3));\n",
              "      fill: #FFFFFF;\n",
              "    }\n",
              "  </style>\n",
              "\n",
              "      <script>\n",
              "        const buttonEl =\n",
              "          document.querySelector('#df-60025863-97c2-4385-b08b-293678660e2f button.colab-df-convert');\n",
              "        buttonEl.style.display =\n",
              "          google.colab.kernel.accessAllowed ? 'block' : 'none';\n",
              "\n",
              "        async function convertToInteractive(key) {\n",
              "          const element = document.querySelector('#df-60025863-97c2-4385-b08b-293678660e2f');\n",
              "          const dataTable =\n",
              "            await google.colab.kernel.invokeFunction('convertToInteractive',\n",
              "                                                     [key], {});\n",
              "          if (!dataTable) return;\n",
              "\n",
              "          const docLinkHtml = 'Like what you see? Visit the ' +\n",
              "            '<a target=\"_blank\" href=https://colab.research.google.com/notebooks/data_table.ipynb>data table notebook</a>'\n",
              "            + ' to learn more about interactive tables.';\n",
              "          element.innerHTML = '';\n",
              "          dataTable['output_type'] = 'display_data';\n",
              "          await google.colab.output.renderOutput(dataTable, element);\n",
              "          const docLink = document.createElement('div');\n",
              "          docLink.innerHTML = docLinkHtml;\n",
              "          element.appendChild(docLink);\n",
              "        }\n",
              "      </script>\n",
              "    </div>\n",
              "  </div>\n",
              "  "
            ]
          },
          "metadata": {},
          "execution_count": 56
        }
      ],
      "source": [
        "#대부분 같은 값을 갖는 컬럼 삭제 \n"
      ]
    },
    {
      "cell_type": "markdown",
      "metadata": {
        "id": "J9Lxj39u9spe"
      },
      "source": [
        "### 3-2. row filtering\n",
        "* 도메인 지식(현업 의견)에 따른 이상치 삭제\n",
        "    * 작업시간 120분 초과 삭제(diff)\n",
        "    * 공구 절삭 깊이 0미만, 15 초과 삭제(FEED_RATE)"
      ]
    },
    {
      "cell_type": "code",
      "execution_count": null,
      "metadata": {
        "colab": {
          "base_uri": "https://localhost:8080/",
          "height": 300
        },
        "id": "BAsB_i9i91fY",
        "outputId": "6fb4986d-3a4d-4f5d-c11b-fed297a21700"
      },
      "outputs": [
        {
          "output_type": "execute_result",
          "data": {
            "text/plain": [
              "             diff\n",
              "count 27129.00000\n",
              "mean     45.33794\n",
              "std      10.58185\n",
              "min     -50.00000\n",
              "25%      40.00000\n",
              "50%      45.00000\n",
              "75%      50.00000\n",
              "max     120.00000"
            ],
            "text/html": [
              "\n",
              "  <div id=\"df-4012c802-6a61-42bc-8a91-d79de9fe8f43\">\n",
              "    <div class=\"colab-df-container\">\n",
              "      <div>\n",
              "<style scoped>\n",
              "    .dataframe tbody tr th:only-of-type {\n",
              "        vertical-align: middle;\n",
              "    }\n",
              "\n",
              "    .dataframe tbody tr th {\n",
              "        vertical-align: top;\n",
              "    }\n",
              "\n",
              "    .dataframe thead th {\n",
              "        text-align: right;\n",
              "    }\n",
              "</style>\n",
              "<table border=\"1\" class=\"dataframe\">\n",
              "  <thead>\n",
              "    <tr style=\"text-align: right;\">\n",
              "      <th></th>\n",
              "      <th>diff</th>\n",
              "    </tr>\n",
              "  </thead>\n",
              "  <tbody>\n",
              "    <tr>\n",
              "      <th>count</th>\n",
              "      <td>27129.00000</td>\n",
              "    </tr>\n",
              "    <tr>\n",
              "      <th>mean</th>\n",
              "      <td>45.33794</td>\n",
              "    </tr>\n",
              "    <tr>\n",
              "      <th>std</th>\n",
              "      <td>10.58185</td>\n",
              "    </tr>\n",
              "    <tr>\n",
              "      <th>min</th>\n",
              "      <td>-50.00000</td>\n",
              "    </tr>\n",
              "    <tr>\n",
              "      <th>25%</th>\n",
              "      <td>40.00000</td>\n",
              "    </tr>\n",
              "    <tr>\n",
              "      <th>50%</th>\n",
              "      <td>45.00000</td>\n",
              "    </tr>\n",
              "    <tr>\n",
              "      <th>75%</th>\n",
              "      <td>50.00000</td>\n",
              "    </tr>\n",
              "    <tr>\n",
              "      <th>max</th>\n",
              "      <td>120.00000</td>\n",
              "    </tr>\n",
              "  </tbody>\n",
              "</table>\n",
              "</div>\n",
              "      <button class=\"colab-df-convert\" onclick=\"convertToInteractive('df-4012c802-6a61-42bc-8a91-d79de9fe8f43')\"\n",
              "              title=\"Convert this dataframe to an interactive table.\"\n",
              "              style=\"display:none;\">\n",
              "        \n",
              "  <svg xmlns=\"http://www.w3.org/2000/svg\" height=\"24px\"viewBox=\"0 0 24 24\"\n",
              "       width=\"24px\">\n",
              "    <path d=\"M0 0h24v24H0V0z\" fill=\"none\"/>\n",
              "    <path d=\"M18.56 5.44l.94 2.06.94-2.06 2.06-.94-2.06-.94-.94-2.06-.94 2.06-2.06.94zm-11 1L8.5 8.5l.94-2.06 2.06-.94-2.06-.94L8.5 2.5l-.94 2.06-2.06.94zm10 10l.94 2.06.94-2.06 2.06-.94-2.06-.94-.94-2.06-.94 2.06-2.06.94z\"/><path d=\"M17.41 7.96l-1.37-1.37c-.4-.4-.92-.59-1.43-.59-.52 0-1.04.2-1.43.59L10.3 9.45l-7.72 7.72c-.78.78-.78 2.05 0 2.83L4 21.41c.39.39.9.59 1.41.59.51 0 1.02-.2 1.41-.59l7.78-7.78 2.81-2.81c.8-.78.8-2.07 0-2.86zM5.41 20L4 18.59l7.72-7.72 1.47 1.35L5.41 20z\"/>\n",
              "  </svg>\n",
              "      </button>\n",
              "      \n",
              "  <style>\n",
              "    .colab-df-container {\n",
              "      display:flex;\n",
              "      flex-wrap:wrap;\n",
              "      gap: 12px;\n",
              "    }\n",
              "\n",
              "    .colab-df-convert {\n",
              "      background-color: #E8F0FE;\n",
              "      border: none;\n",
              "      border-radius: 50%;\n",
              "      cursor: pointer;\n",
              "      display: none;\n",
              "      fill: #1967D2;\n",
              "      height: 32px;\n",
              "      padding: 0 0 0 0;\n",
              "      width: 32px;\n",
              "    }\n",
              "\n",
              "    .colab-df-convert:hover {\n",
              "      background-color: #E2EBFA;\n",
              "      box-shadow: 0px 1px 2px rgba(60, 64, 67, 0.3), 0px 1px 3px 1px rgba(60, 64, 67, 0.15);\n",
              "      fill: #174EA6;\n",
              "    }\n",
              "\n",
              "    [theme=dark] .colab-df-convert {\n",
              "      background-color: #3B4455;\n",
              "      fill: #D2E3FC;\n",
              "    }\n",
              "\n",
              "    [theme=dark] .colab-df-convert:hover {\n",
              "      background-color: #434B5C;\n",
              "      box-shadow: 0px 1px 3px 1px rgba(0, 0, 0, 0.15);\n",
              "      filter: drop-shadow(0px 1px 2px rgba(0, 0, 0, 0.3));\n",
              "      fill: #FFFFFF;\n",
              "    }\n",
              "  </style>\n",
              "\n",
              "      <script>\n",
              "        const buttonEl =\n",
              "          document.querySelector('#df-4012c802-6a61-42bc-8a91-d79de9fe8f43 button.colab-df-convert');\n",
              "        buttonEl.style.display =\n",
              "          google.colab.kernel.accessAllowed ? 'block' : 'none';\n",
              "\n",
              "        async function convertToInteractive(key) {\n",
              "          const element = document.querySelector('#df-4012c802-6a61-42bc-8a91-d79de9fe8f43');\n",
              "          const dataTable =\n",
              "            await google.colab.kernel.invokeFunction('convertToInteractive',\n",
              "                                                     [key], {});\n",
              "          if (!dataTable) return;\n",
              "\n",
              "          const docLinkHtml = 'Like what you see? Visit the ' +\n",
              "            '<a target=\"_blank\" href=https://colab.research.google.com/notebooks/data_table.ipynb>data table notebook</a>'\n",
              "            + ' to learn more about interactive tables.';\n",
              "          element.innerHTML = '';\n",
              "          dataTable['output_type'] = 'display_data';\n",
              "          await google.colab.output.renderOutput(dataTable, element);\n",
              "          const docLink = document.createElement('div');\n",
              "          docLink.innerHTML = docLinkHtml;\n",
              "          element.appendChild(docLink);\n",
              "        }\n",
              "      </script>\n",
              "    </div>\n",
              "  </div>\n",
              "  "
            ]
          },
          "metadata": {},
          "execution_count": 58
        }
      ],
      "source": [
        "#df_tmp에서 df_tmp['diff]가 120보다 작은 값만 남도록 분리함 \n"
      ]
    },
    {
      "cell_type": "markdown",
      "metadata": {
        "id": "L5e0lxwP-G2a"
      },
      "source": [
        "* 분포 확인 후 이상치 삭제(오류 데이터로 판단하여 삭제함)\n",
        "    * 작업시간 0 이하 삭제(diff)\n",
        "    * 투입 갯수 300 삭제(INPUT_QTY) "
      ]
    },
    {
      "cell_type": "code",
      "execution_count": null,
      "metadata": {
        "colab": {
          "base_uri": "https://localhost:8080/",
          "height": 300
        },
        "id": "eT3vGoRZ-LhN",
        "outputId": "837db4d8-0792-460f-e722-ba3e1761cc8b"
      },
      "outputs": [
        {
          "output_type": "execute_result",
          "data": {
            "text/plain": [
              "         INPUT_ED  INPUT_LENGTH   INPUT_QTY  DIRECTION_ED   OUTPUT_ED  \\\n",
              "count 27125.00000   27125.00000 27125.00000   27125.00000 27125.00000   \n",
              "mean    162.51468    6663.06352     3.08829     156.12598   156.62868   \n",
              "std      14.27431     960.97940     0.71327      13.55163    18.64967   \n",
              "min     124.00000    3200.00000     1.00000     114.00000     1.00000   \n",
              "25%     154.00000    5800.00000     3.00000     148.00000   148.50000   \n",
              "50%     154.00000    6700.00000     3.00000     148.00000   148.60000   \n",
              "75%     175.00000    7600.00000     3.00000     168.00000   168.50000   \n",
              "max     214.00000    9500.00000     9.00000     210.00000  2017.00000   \n",
              "\n",
              "             diff  \n",
              "count 27125.00000  \n",
              "mean     45.34684  \n",
              "std      10.54657  \n",
              "min      10.00000  \n",
              "25%      40.00000  \n",
              "50%      45.00000  \n",
              "75%      50.00000  \n",
              "max     120.00000  "
            ],
            "text/html": [
              "\n",
              "  <div id=\"df-e2e8878f-7cd2-40b9-ad28-1a2344d32585\">\n",
              "    <div class=\"colab-df-container\">\n",
              "      <div>\n",
              "<style scoped>\n",
              "    .dataframe tbody tr th:only-of-type {\n",
              "        vertical-align: middle;\n",
              "    }\n",
              "\n",
              "    .dataframe tbody tr th {\n",
              "        vertical-align: top;\n",
              "    }\n",
              "\n",
              "    .dataframe thead th {\n",
              "        text-align: right;\n",
              "    }\n",
              "</style>\n",
              "<table border=\"1\" class=\"dataframe\">\n",
              "  <thead>\n",
              "    <tr style=\"text-align: right;\">\n",
              "      <th></th>\n",
              "      <th>INPUT_ED</th>\n",
              "      <th>INPUT_LENGTH</th>\n",
              "      <th>INPUT_QTY</th>\n",
              "      <th>DIRECTION_ED</th>\n",
              "      <th>OUTPUT_ED</th>\n",
              "      <th>diff</th>\n",
              "    </tr>\n",
              "  </thead>\n",
              "  <tbody>\n",
              "    <tr>\n",
              "      <th>count</th>\n",
              "      <td>27125.00000</td>\n",
              "      <td>27125.00000</td>\n",
              "      <td>27125.00000</td>\n",
              "      <td>27125.00000</td>\n",
              "      <td>27125.00000</td>\n",
              "      <td>27125.00000</td>\n",
              "    </tr>\n",
              "    <tr>\n",
              "      <th>mean</th>\n",
              "      <td>162.51468</td>\n",
              "      <td>6663.06352</td>\n",
              "      <td>3.08829</td>\n",
              "      <td>156.12598</td>\n",
              "      <td>156.62868</td>\n",
              "      <td>45.34684</td>\n",
              "    </tr>\n",
              "    <tr>\n",
              "      <th>std</th>\n",
              "      <td>14.27431</td>\n",
              "      <td>960.97940</td>\n",
              "      <td>0.71327</td>\n",
              "      <td>13.55163</td>\n",
              "      <td>18.64967</td>\n",
              "      <td>10.54657</td>\n",
              "    </tr>\n",
              "    <tr>\n",
              "      <th>min</th>\n",
              "      <td>124.00000</td>\n",
              "      <td>3200.00000</td>\n",
              "      <td>1.00000</td>\n",
              "      <td>114.00000</td>\n",
              "      <td>1.00000</td>\n",
              "      <td>10.00000</td>\n",
              "    </tr>\n",
              "    <tr>\n",
              "      <th>25%</th>\n",
              "      <td>154.00000</td>\n",
              "      <td>5800.00000</td>\n",
              "      <td>3.00000</td>\n",
              "      <td>148.00000</td>\n",
              "      <td>148.50000</td>\n",
              "      <td>40.00000</td>\n",
              "    </tr>\n",
              "    <tr>\n",
              "      <th>50%</th>\n",
              "      <td>154.00000</td>\n",
              "      <td>6700.00000</td>\n",
              "      <td>3.00000</td>\n",
              "      <td>148.00000</td>\n",
              "      <td>148.60000</td>\n",
              "      <td>45.00000</td>\n",
              "    </tr>\n",
              "    <tr>\n",
              "      <th>75%</th>\n",
              "      <td>175.00000</td>\n",
              "      <td>7600.00000</td>\n",
              "      <td>3.00000</td>\n",
              "      <td>168.00000</td>\n",
              "      <td>168.50000</td>\n",
              "      <td>50.00000</td>\n",
              "    </tr>\n",
              "    <tr>\n",
              "      <th>max</th>\n",
              "      <td>214.00000</td>\n",
              "      <td>9500.00000</td>\n",
              "      <td>9.00000</td>\n",
              "      <td>210.00000</td>\n",
              "      <td>2017.00000</td>\n",
              "      <td>120.00000</td>\n",
              "    </tr>\n",
              "  </tbody>\n",
              "</table>\n",
              "</div>\n",
              "      <button class=\"colab-df-convert\" onclick=\"convertToInteractive('df-e2e8878f-7cd2-40b9-ad28-1a2344d32585')\"\n",
              "              title=\"Convert this dataframe to an interactive table.\"\n",
              "              style=\"display:none;\">\n",
              "        \n",
              "  <svg xmlns=\"http://www.w3.org/2000/svg\" height=\"24px\"viewBox=\"0 0 24 24\"\n",
              "       width=\"24px\">\n",
              "    <path d=\"M0 0h24v24H0V0z\" fill=\"none\"/>\n",
              "    <path d=\"M18.56 5.44l.94 2.06.94-2.06 2.06-.94-2.06-.94-.94-2.06-.94 2.06-2.06.94zm-11 1L8.5 8.5l.94-2.06 2.06-.94-2.06-.94L8.5 2.5l-.94 2.06-2.06.94zm10 10l.94 2.06.94-2.06 2.06-.94-2.06-.94-.94-2.06-.94 2.06-2.06.94z\"/><path d=\"M17.41 7.96l-1.37-1.37c-.4-.4-.92-.59-1.43-.59-.52 0-1.04.2-1.43.59L10.3 9.45l-7.72 7.72c-.78.78-.78 2.05 0 2.83L4 21.41c.39.39.9.59 1.41.59.51 0 1.02-.2 1.41-.59l7.78-7.78 2.81-2.81c.8-.78.8-2.07 0-2.86zM5.41 20L4 18.59l7.72-7.72 1.47 1.35L5.41 20z\"/>\n",
              "  </svg>\n",
              "      </button>\n",
              "      \n",
              "  <style>\n",
              "    .colab-df-container {\n",
              "      display:flex;\n",
              "      flex-wrap:wrap;\n",
              "      gap: 12px;\n",
              "    }\n",
              "\n",
              "    .colab-df-convert {\n",
              "      background-color: #E8F0FE;\n",
              "      border: none;\n",
              "      border-radius: 50%;\n",
              "      cursor: pointer;\n",
              "      display: none;\n",
              "      fill: #1967D2;\n",
              "      height: 32px;\n",
              "      padding: 0 0 0 0;\n",
              "      width: 32px;\n",
              "    }\n",
              "\n",
              "    .colab-df-convert:hover {\n",
              "      background-color: #E2EBFA;\n",
              "      box-shadow: 0px 1px 2px rgba(60, 64, 67, 0.3), 0px 1px 3px 1px rgba(60, 64, 67, 0.15);\n",
              "      fill: #174EA6;\n",
              "    }\n",
              "\n",
              "    [theme=dark] .colab-df-convert {\n",
              "      background-color: #3B4455;\n",
              "      fill: #D2E3FC;\n",
              "    }\n",
              "\n",
              "    [theme=dark] .colab-df-convert:hover {\n",
              "      background-color: #434B5C;\n",
              "      box-shadow: 0px 1px 3px 1px rgba(0, 0, 0, 0.15);\n",
              "      filter: drop-shadow(0px 1px 2px rgba(0, 0, 0, 0.3));\n",
              "      fill: #FFFFFF;\n",
              "    }\n",
              "  </style>\n",
              "\n",
              "      <script>\n",
              "        const buttonEl =\n",
              "          document.querySelector('#df-e2e8878f-7cd2-40b9-ad28-1a2344d32585 button.colab-df-convert');\n",
              "        buttonEl.style.display =\n",
              "          google.colab.kernel.accessAllowed ? 'block' : 'none';\n",
              "\n",
              "        async function convertToInteractive(key) {\n",
              "          const element = document.querySelector('#df-e2e8878f-7cd2-40b9-ad28-1a2344d32585');\n",
              "          const dataTable =\n",
              "            await google.colab.kernel.invokeFunction('convertToInteractive',\n",
              "                                                     [key], {});\n",
              "          if (!dataTable) return;\n",
              "\n",
              "          const docLinkHtml = 'Like what you see? Visit the ' +\n",
              "            '<a target=\"_blank\" href=https://colab.research.google.com/notebooks/data_table.ipynb>data table notebook</a>'\n",
              "            + ' to learn more about interactive tables.';\n",
              "          element.innerHTML = '';\n",
              "          dataTable['output_type'] = 'display_data';\n",
              "          await google.colab.output.renderOutput(dataTable, element);\n",
              "          const docLink = document.createElement('div');\n",
              "          docLink.innerHTML = docLinkHtml;\n",
              "          element.appendChild(docLink);\n",
              "        }\n",
              "      </script>\n",
              "    </div>\n",
              "  </div>\n",
              "  "
            ]
          },
          "metadata": {},
          "execution_count": 59
        }
      ],
      "source": [
        "#df_tmp에서 df_tmp['diff]가 0보다 크고 (df_tmp['INPUT_QTY'] < 300)모다 작은 값만 남도록 분리함\n"
      ]
    },
    {
      "cell_type": "markdown",
      "source": [
        "### 3-3. 파생변수 생성"
      ],
      "metadata": {
        "id": "m4Fqsz7SRFcD"
      }
    },
    {
      "cell_type": "markdown",
      "metadata": {
        "id": "CXebsFtf-L2s"
      },
      "source": [
        "* tot_length\n",
        "    * 작업하게되는 총 길이가 작업소요시간에 영향을 미칠 것이라고 예상하여 황삭기를 통과하는 길이의 합을 파생변수로 생성\n",
        "    * **총 길이(TOT_LENGTH) = 투입 갯수(INPUT_QTY) * 개당 길이(INPUT_LENGTH)**\n",
        "    * 총 길이 변수를 생성하게되면 투입 갯수와 개당 길이 변수와 다중공선성 문제가 발생하기 때문에 변수를 만드는데 사용했던 두개의 변수를 추가로 제외시킴"
      ]
    },
    {
      "cell_type": "code",
      "execution_count": null,
      "metadata": {
        "id": "DuPAbpNw-wS2"
      },
      "outputs": [],
      "source": [
        "#tot_length 파생변수 생성 \n",
        "\n",
        "\n",
        "# 다중공선성 문제로 인해 INPUT_QTY, INPUT_LENGTH 삭제\n",
        "\n"
      ]
    },
    {
      "cell_type": "markdown",
      "source": [
        "* DECREASE_ED\n",
        "    * 작업시 깎아야하는 외경이 작업소요시간에 영향을 미칠 것이라고 예상하여 감소하는 외경을 파생변수로 생성\n",
        "    * **감소 외경(DECREASE_ED) = 투입 외경(INPUT_ED) - 목표 외경(DIRECTION_ED)**\n",
        "    * 감소 외경 변수를 생성하게되면 투입 외경과 목표 외경 변수와 다중공선성 문제가 발생하기 때문에 변수를 만드는데 사용했던 두개의 변수를 추가로 제외시킴"
      ],
      "metadata": {
        "id": "3UAx0OaqRDz-"
      }
    },
    {
      "cell_type": "code",
      "source": [
        "#DECREASE_ED(감소외경) 생성 \n",
        "\n",
        "\n",
        "# 다중공선성 문제로 인해 INPUT_ED, DIRECTION_ED 삭제\n",
        "\n"
      ],
      "metadata": {
        "id": "IjTkWQ-0RD7v"
      },
      "execution_count": null,
      "outputs": []
    },
    {
      "cell_type": "markdown",
      "source": [
        "### 3-4. 최종 확인"
      ],
      "metadata": {
        "id": "E1zQQ22vdCs9"
      }
    },
    {
      "cell_type": "markdown",
      "metadata": {
        "id": "YzVe3Yi0-0eO"
      },
      "source": [
        "\n",
        "* 최종적으로 소요시간 예측에 사용하는 컬럼 확인\n",
        "* 결측치 여부 확인"
      ]
    },
    {
      "cell_type": "code",
      "source": [
        ""
      ],
      "metadata": {
        "colab": {
          "base_uri": "https://localhost:8080/",
          "height": 206
        },
        "id": "7BI-ld-EkVcu",
        "outputId": "32365307-a838-415e-d142-1807081a762f"
      },
      "execution_count": null,
      "outputs": [
        {
          "output_type": "execute_result",
          "data": {
            "text/plain": [
              "   OUTPUT_ED STEEL_CATEGORY    WORK_START_DT  diff  TOT_LENGTH  DECREASE_ED\n",
              "0  148.50000           2929  2017-01-02 7:00    40       22350      6.00000\n",
              "1  148.50000           2929  2017-01-02 7:40    40       22350      6.00000\n",
              "2  148.50000           2929  2017-01-02 8:20    40       22350      6.00000\n",
              "3  148.50000           2929  2017-01-02 9:00    40       22350      6.00000\n",
              "4  148.50000           2929  2017-01-02 9:40    40       22350      6.00000"
            ],
            "text/html": [
              "\n",
              "  <div id=\"df-e5c4d34d-bd5b-42e6-bf76-86eec5ebe13f\">\n",
              "    <div class=\"colab-df-container\">\n",
              "      <div>\n",
              "<style scoped>\n",
              "    .dataframe tbody tr th:only-of-type {\n",
              "        vertical-align: middle;\n",
              "    }\n",
              "\n",
              "    .dataframe tbody tr th {\n",
              "        vertical-align: top;\n",
              "    }\n",
              "\n",
              "    .dataframe thead th {\n",
              "        text-align: right;\n",
              "    }\n",
              "</style>\n",
              "<table border=\"1\" class=\"dataframe\">\n",
              "  <thead>\n",
              "    <tr style=\"text-align: right;\">\n",
              "      <th></th>\n",
              "      <th>OUTPUT_ED</th>\n",
              "      <th>STEEL_CATEGORY</th>\n",
              "      <th>WORK_START_DT</th>\n",
              "      <th>diff</th>\n",
              "      <th>TOT_LENGTH</th>\n",
              "      <th>DECREASE_ED</th>\n",
              "    </tr>\n",
              "  </thead>\n",
              "  <tbody>\n",
              "    <tr>\n",
              "      <th>0</th>\n",
              "      <td>148.50000</td>\n",
              "      <td>2929</td>\n",
              "      <td>2017-01-02 7:00</td>\n",
              "      <td>40</td>\n",
              "      <td>22350</td>\n",
              "      <td>6.00000</td>\n",
              "    </tr>\n",
              "    <tr>\n",
              "      <th>1</th>\n",
              "      <td>148.50000</td>\n",
              "      <td>2929</td>\n",
              "      <td>2017-01-02 7:40</td>\n",
              "      <td>40</td>\n",
              "      <td>22350</td>\n",
              "      <td>6.00000</td>\n",
              "    </tr>\n",
              "    <tr>\n",
              "      <th>2</th>\n",
              "      <td>148.50000</td>\n",
              "      <td>2929</td>\n",
              "      <td>2017-01-02 8:20</td>\n",
              "      <td>40</td>\n",
              "      <td>22350</td>\n",
              "      <td>6.00000</td>\n",
              "    </tr>\n",
              "    <tr>\n",
              "      <th>3</th>\n",
              "      <td>148.50000</td>\n",
              "      <td>2929</td>\n",
              "      <td>2017-01-02 9:00</td>\n",
              "      <td>40</td>\n",
              "      <td>22350</td>\n",
              "      <td>6.00000</td>\n",
              "    </tr>\n",
              "    <tr>\n",
              "      <th>4</th>\n",
              "      <td>148.50000</td>\n",
              "      <td>2929</td>\n",
              "      <td>2017-01-02 9:40</td>\n",
              "      <td>40</td>\n",
              "      <td>22350</td>\n",
              "      <td>6.00000</td>\n",
              "    </tr>\n",
              "  </tbody>\n",
              "</table>\n",
              "</div>\n",
              "      <button class=\"colab-df-convert\" onclick=\"convertToInteractive('df-e5c4d34d-bd5b-42e6-bf76-86eec5ebe13f')\"\n",
              "              title=\"Convert this dataframe to an interactive table.\"\n",
              "              style=\"display:none;\">\n",
              "        \n",
              "  <svg xmlns=\"http://www.w3.org/2000/svg\" height=\"24px\"viewBox=\"0 0 24 24\"\n",
              "       width=\"24px\">\n",
              "    <path d=\"M0 0h24v24H0V0z\" fill=\"none\"/>\n",
              "    <path d=\"M18.56 5.44l.94 2.06.94-2.06 2.06-.94-2.06-.94-.94-2.06-.94 2.06-2.06.94zm-11 1L8.5 8.5l.94-2.06 2.06-.94-2.06-.94L8.5 2.5l-.94 2.06-2.06.94zm10 10l.94 2.06.94-2.06 2.06-.94-2.06-.94-.94-2.06-.94 2.06-2.06.94z\"/><path d=\"M17.41 7.96l-1.37-1.37c-.4-.4-.92-.59-1.43-.59-.52 0-1.04.2-1.43.59L10.3 9.45l-7.72 7.72c-.78.78-.78 2.05 0 2.83L4 21.41c.39.39.9.59 1.41.59.51 0 1.02-.2 1.41-.59l7.78-7.78 2.81-2.81c.8-.78.8-2.07 0-2.86zM5.41 20L4 18.59l7.72-7.72 1.47 1.35L5.41 20z\"/>\n",
              "  </svg>\n",
              "      </button>\n",
              "      \n",
              "  <style>\n",
              "    .colab-df-container {\n",
              "      display:flex;\n",
              "      flex-wrap:wrap;\n",
              "      gap: 12px;\n",
              "    }\n",
              "\n",
              "    .colab-df-convert {\n",
              "      background-color: #E8F0FE;\n",
              "      border: none;\n",
              "      border-radius: 50%;\n",
              "      cursor: pointer;\n",
              "      display: none;\n",
              "      fill: #1967D2;\n",
              "      height: 32px;\n",
              "      padding: 0 0 0 0;\n",
              "      width: 32px;\n",
              "    }\n",
              "\n",
              "    .colab-df-convert:hover {\n",
              "      background-color: #E2EBFA;\n",
              "      box-shadow: 0px 1px 2px rgba(60, 64, 67, 0.3), 0px 1px 3px 1px rgba(60, 64, 67, 0.15);\n",
              "      fill: #174EA6;\n",
              "    }\n",
              "\n",
              "    [theme=dark] .colab-df-convert {\n",
              "      background-color: #3B4455;\n",
              "      fill: #D2E3FC;\n",
              "    }\n",
              "\n",
              "    [theme=dark] .colab-df-convert:hover {\n",
              "      background-color: #434B5C;\n",
              "      box-shadow: 0px 1px 3px 1px rgba(0, 0, 0, 0.15);\n",
              "      filter: drop-shadow(0px 1px 2px rgba(0, 0, 0, 0.3));\n",
              "      fill: #FFFFFF;\n",
              "    }\n",
              "  </style>\n",
              "\n",
              "      <script>\n",
              "        const buttonEl =\n",
              "          document.querySelector('#df-e5c4d34d-bd5b-42e6-bf76-86eec5ebe13f button.colab-df-convert');\n",
              "        buttonEl.style.display =\n",
              "          google.colab.kernel.accessAllowed ? 'block' : 'none';\n",
              "\n",
              "        async function convertToInteractive(key) {\n",
              "          const element = document.querySelector('#df-e5c4d34d-bd5b-42e6-bf76-86eec5ebe13f');\n",
              "          const dataTable =\n",
              "            await google.colab.kernel.invokeFunction('convertToInteractive',\n",
              "                                                     [key], {});\n",
              "          if (!dataTable) return;\n",
              "\n",
              "          const docLinkHtml = 'Like what you see? Visit the ' +\n",
              "            '<a target=\"_blank\" href=https://colab.research.google.com/notebooks/data_table.ipynb>data table notebook</a>'\n",
              "            + ' to learn more about interactive tables.';\n",
              "          element.innerHTML = '';\n",
              "          dataTable['output_type'] = 'display_data';\n",
              "          await google.colab.output.renderOutput(dataTable, element);\n",
              "          const docLink = document.createElement('div');\n",
              "          docLink.innerHTML = docLinkHtml;\n",
              "          element.appendChild(docLink);\n",
              "        }\n",
              "      </script>\n",
              "    </div>\n",
              "  </div>\n",
              "  "
            ]
          },
          "metadata": {},
          "execution_count": 62
        }
      ]
    },
    {
      "cell_type": "code",
      "execution_count": null,
      "metadata": {
        "colab": {
          "base_uri": "https://localhost:8080/"
        },
        "id": "80Fyoym8pXZW",
        "outputId": "63c2d5eb-e525-4a1a-e89b-acc8b77049d2"
      },
      "outputs": [
        {
          "output_type": "stream",
          "name": "stdout",
          "text": [
            "<class 'pandas.core.frame.DataFrame'>\n",
            "Int64Index: 27125 entries, 0 to 27149\n",
            "Data columns (total 7 columns):\n",
            " #   Column          Non-Null Count  Dtype   \n",
            "---  ------          --------------  -----   \n",
            " 0   INPUT_LENGTH    27125 non-null  int64   \n",
            " 1   INPUT_QTY       27125 non-null  int64   \n",
            " 2   OUTPUT_ED       27125 non-null  float64 \n",
            " 3   STEEL_CATEGORY  27125 non-null  category\n",
            " 4   WORK_START_DT   27125 non-null  object  \n",
            " 5   diff            27125 non-null  int64   \n",
            " 6   DECREASE_ED     27125 non-null  float64 \n",
            "dtypes: category(1), float64(2), int64(3), object(1)\n",
            "memory usage: 1.5+ MB\n"
          ]
        }
      ],
      "source": [
        ""
      ]
    },
    {
      "cell_type": "markdown",
      "metadata": {
        "id": "KzMHBqP7DPXD"
      },
      "source": [
        "# **4. 모델 준비** "
      ]
    },
    {
      "cell_type": "markdown",
      "metadata": {
        "id": "frBDdwd3DVWt"
      },
      "source": [
        "* WORK_START_DT 이용하여 year 변수생성\n"
      ]
    },
    {
      "cell_type": "code",
      "source": [
        "#year파생 변수 생성하여 연도별 데이터 수 확인\n"
      ],
      "metadata": {
        "colab": {
          "base_uri": "https://localhost:8080/",
          "height": 334
        },
        "id": "lY0jNH4LPl4s",
        "outputId": "3b33f72e-e183-47cc-8b6a-840720025dfb"
      },
      "execution_count": null,
      "outputs": [
        {
          "output_type": "stream",
          "name": "stderr",
          "text": [
            "/usr/local/lib/python3.7/dist-packages/seaborn/_decorators.py:43: FutureWarning: Pass the following variable as a keyword arg: x. From version 0.12, the only valid positional argument will be `data`, and passing other arguments without an explicit keyword will result in an error or misinterpretation.\n",
            "  FutureWarning\n"
          ]
        },
        {
          "output_type": "display_data",
          "data": {
            "text/plain": [
              "<Figure size 432x288 with 1 Axes>"
            ],
            "image/png": "[encoded data removed]"
          },
          "metadata": {
            "needs_background": "light"
          }
        }
      ]
    },
    {
      "cell_type": "markdown",
      "source": [
        "* Training / Test 데이터 셋 분리\n",
        "  * 2017, 2018년 실적을 training 데이터 셋, 2019년 실적을 test 데이터 셋으로 분리\n",
        "  * 2년간 수집된 실적을 이용하여 예측모델을 만들고, 2019년 test 데이터 셋에서 예측이 잘되는지 테스트를 진행함\n",
        "\n",
        "<figure>\n",
        "<left>\n",
        "<img src='https://velog.velcdn.com/images%2Fhyesoup%2Fpost%2Fca570d26-b650-4943-ad8e-5e9035b95237%2Fimage.png' />\n",
        "</left>\n",
        "</figure>"
      ],
      "metadata": {
        "id": "83mXHMRGPmCI"
      }
    },
    {
      "cell_type": "code",
      "execution_count": null,
      "metadata": {
        "colab": {
          "base_uri": "https://localhost:8080/",
          "height": 276
        },
        "id": "3nV-2qItDTtC",
        "outputId": "9b51412a-0d7f-406c-f20b-11da90462f81"
      },
      "outputs": [
        {
          "output_type": "display_data",
          "data": {
            "text/plain": [
              "(23262, 3)"
            ]
          },
          "metadata": {}
        },
        {
          "output_type": "display_data",
          "data": {
            "text/plain": [
              "(23262, 1)"
            ]
          },
          "metadata": {}
        },
        {
          "output_type": "display_data",
          "data": {
            "text/plain": [
              "(3863, 3)"
            ]
          },
          "metadata": {}
        },
        {
          "output_type": "display_data",
          "data": {
            "text/plain": [
              "(3863, 1)"
            ]
          },
          "metadata": {}
        },
        {
          "output_type": "execute_result",
          "data": {
            "text/plain": [
              "   DECREASE_ED STEEL_CATEGORY  TOT_LENGTH\n",
              "0      6.00000           2929       22350\n",
              "1      6.00000           2929       22350\n",
              "2      6.00000           2929       22350\n",
              "3      6.00000           2929       22350\n",
              "4      6.00000           2929       22350"
            ],
            "text/html": [
              "\n",
              "  <div id=\"df-5c38dc26-acc5-4ab1-ac4d-f7085939df19\">\n",
              "    <div class=\"colab-df-container\">\n",
              "      <div>\n",
              "<style scoped>\n",
              "    .dataframe tbody tr th:only-of-type {\n",
              "        vertical-align: middle;\n",
              "    }\n",
              "\n",
              "    .dataframe tbody tr th {\n",
              "        vertical-align: top;\n",
              "    }\n",
              "\n",
              "    .dataframe thead th {\n",
              "        text-align: right;\n",
              "    }\n",
              "</style>\n",
              "<table border=\"1\" class=\"dataframe\">\n",
              "  <thead>\n",
              "    <tr style=\"text-align: right;\">\n",
              "      <th></th>\n",
              "      <th>DECREASE_ED</th>\n",
              "      <th>STEEL_CATEGORY</th>\n",
              "      <th>TOT_LENGTH</th>\n",
              "    </tr>\n",
              "  </thead>\n",
              "  <tbody>\n",
              "    <tr>\n",
              "      <th>0</th>\n",
              "      <td>6.00000</td>\n",
              "      <td>2929</td>\n",
              "      <td>22350</td>\n",
              "    </tr>\n",
              "    <tr>\n",
              "      <th>1</th>\n",
              "      <td>6.00000</td>\n",
              "      <td>2929</td>\n",
              "      <td>22350</td>\n",
              "    </tr>\n",
              "    <tr>\n",
              "      <th>2</th>\n",
              "      <td>6.00000</td>\n",
              "      <td>2929</td>\n",
              "      <td>22350</td>\n",
              "    </tr>\n",
              "    <tr>\n",
              "      <th>3</th>\n",
              "      <td>6.00000</td>\n",
              "      <td>2929</td>\n",
              "      <td>22350</td>\n",
              "    </tr>\n",
              "    <tr>\n",
              "      <th>4</th>\n",
              "      <td>6.00000</td>\n",
              "      <td>2929</td>\n",
              "      <td>22350</td>\n",
              "    </tr>\n",
              "  </tbody>\n",
              "</table>\n",
              "</div>\n",
              "      <button class=\"colab-df-convert\" onclick=\"convertToInteractive('df-5c38dc26-acc5-4ab1-ac4d-f7085939df19')\"\n",
              "              title=\"Convert this dataframe to an interactive table.\"\n",
              "              style=\"display:none;\">\n",
              "        \n",
              "  <svg xmlns=\"http://www.w3.org/2000/svg\" height=\"24px\"viewBox=\"0 0 24 24\"\n",
              "       width=\"24px\">\n",
              "    <path d=\"M0 0h24v24H0V0z\" fill=\"none\"/>\n",
              "    <path d=\"M18.56 5.44l.94 2.06.94-2.06 2.06-.94-2.06-.94-.94-2.06-.94 2.06-2.06.94zm-11 1L8.5 8.5l.94-2.06 2.06-.94-2.06-.94L8.5 2.5l-.94 2.06-2.06.94zm10 10l.94 2.06.94-2.06 2.06-.94-2.06-.94-.94-2.06-.94 2.06-2.06.94z\"/><path d=\"M17.41 7.96l-1.37-1.37c-.4-.4-.92-.59-1.43-.59-.52 0-1.04.2-1.43.59L10.3 9.45l-7.72 7.72c-.78.78-.78 2.05 0 2.83L4 21.41c.39.39.9.59 1.41.59.51 0 1.02-.2 1.41-.59l7.78-7.78 2.81-2.81c.8-.78.8-2.07 0-2.86zM5.41 20L4 18.59l7.72-7.72 1.47 1.35L5.41 20z\"/>\n",
              "  </svg>\n",
              "      </button>\n",
              "      \n",
              "  <style>\n",
              "    .colab-df-container {\n",
              "      display:flex;\n",
              "      flex-wrap:wrap;\n",
              "      gap: 12px;\n",
              "    }\n",
              "\n",
              "    .colab-df-convert {\n",
              "      background-color: #E8F0FE;\n",
              "      border: none;\n",
              "      border-radius: 50%;\n",
              "      cursor: pointer;\n",
              "      display: none;\n",
              "      fill: #1967D2;\n",
              "      height: 32px;\n",
              "      padding: 0 0 0 0;\n",
              "      width: 32px;\n",
              "    }\n",
              "\n",
              "    .colab-df-convert:hover {\n",
              "      background-color: #E2EBFA;\n",
              "      box-shadow: 0px 1px 2px rgba(60, 64, 67, 0.3), 0px 1px 3px 1px rgba(60, 64, 67, 0.15);\n",
              "      fill: #174EA6;\n",
              "    }\n",
              "\n",
              "    [theme=dark] .colab-df-convert {\n",
              "      background-color: #3B4455;\n",
              "      fill: #D2E3FC;\n",
              "    }\n",
              "\n",
              "    [theme=dark] .colab-df-convert:hover {\n",
              "      background-color: #434B5C;\n",
              "      box-shadow: 0px 1px 3px 1px rgba(0, 0, 0, 0.15);\n",
              "      filter: drop-shadow(0px 1px 2px rgba(0, 0, 0, 0.3));\n",
              "      fill: #FFFFFF;\n",
              "    }\n",
              "  </style>\n",
              "\n",
              "      <script>\n",
              "        const buttonEl =\n",
              "          document.querySelector('#df-5c38dc26-acc5-4ab1-ac4d-f7085939df19 button.colab-df-convert');\n",
              "        buttonEl.style.display =\n",
              "          google.colab.kernel.accessAllowed ? 'block' : 'none';\n",
              "\n",
              "        async function convertToInteractive(key) {\n",
              "          const element = document.querySelector('#df-5c38dc26-acc5-4ab1-ac4d-f7085939df19');\n",
              "          const dataTable =\n",
              "            await google.colab.kernel.invokeFunction('convertToInteractive',\n",
              "                                                     [key], {});\n",
              "          if (!dataTable) return;\n",
              "\n",
              "          const docLinkHtml = 'Like what you see? Visit the ' +\n",
              "            '<a target=\"_blank\" href=https://colab.research.google.com/notebooks/data_table.ipynb>data table notebook</a>'\n",
              "            + ' to learn more about interactive tables.';\n",
              "          element.innerHTML = '';\n",
              "          dataTable['output_type'] = 'display_data';\n",
              "          await google.colab.output.renderOutput(dataTable, element);\n",
              "          const docLink = document.createElement('div');\n",
              "          docLink.innerHTML = docLinkHtml;\n",
              "          element.appendChild(docLink);\n",
              "        }\n",
              "      </script>\n",
              "    </div>\n",
              "  </div>\n",
              "  "
            ]
          },
          "metadata": {},
          "execution_count": 64
        }
      ],
      "source": [
        "#테스트 데이터 분할 \n"
      ]
    },
    {
      "cell_type": "markdown",
      "source": [
        "# **5. 모델 생성 및 해석** "
      ],
      "metadata": {
        "id": "YdRY-dL2dWX5"
      }
    },
    {
      "cell_type": "markdown",
      "metadata": {
        "id": "m9iwB999FFi3"
      },
      "source": [
        "\n",
        "* scikit-learn 라이브러리\n",
        "    * 기계학습(Machine Learning) 에 많이 사용되는 python 라이브러리로 회귀모델, 분류모델, 클러스터링 알고리즘 등 기계학습에서 자주 사용하는 알고리즘이 구현되어 있음\n",
        "    * 전처리, 평가 등 알고리즘 이외에 기계학습에서 사용되는 다양한 기법도 함께 모여있음"
      ]
    },
    {
      "cell_type": "markdown",
      "source": [
        "*  R²(결정계수)\n",
        "  * 모델이 데이터를 얼마나 잘 설명하는가를 나타내는 평가지표\n",
        "  * 0~1사이 값을 가지며 1에 가까울 수록 모델이 예측을 정확하게 한다고 해석 "
      ],
      "metadata": {
        "id": "ZXCBeh-KUw2q"
      }
    },
    {
      "cell_type": "markdown",
      "source": [
        "### 5-1. 다중 선형회귀(Multiple Linear Regression)"
      ],
      "metadata": {
        "id": "_eHco2mjdTyN"
      }
    },
    {
      "cell_type": "markdown",
      "metadata": {
        "id": "yJbRb_z-FK0Z"
      },
      "source": [
        "\n",
        "* 회귀모델 생성"
      ]
    },
    {
      "cell_type": "code",
      "execution_count": null,
      "metadata": {
        "colab": {
          "base_uri": "https://localhost:8080/"
        },
        "id": "ows0JchlFKeh",
        "outputId": "6a4c7f79-02f8-43ae-92e1-ccc7c39ddac6"
      },
      "outputs": [
        {
          "output_type": "execute_result",
          "data": {
            "text/plain": [
              "LinearRegression()"
            ]
          },
          "metadata": {},
          "execution_count": 65
        }
      ],
      "source": [
        "#회귀모델 생성 \n"
      ]
    },
    {
      "cell_type": "markdown",
      "metadata": {
        "id": "U2PoPapcFSo7"
      },
      "source": [
        "* 회귀모델 성능 확인\n",
        "  * R²(결정계수)를 이용하여 모델 평가"
      ]
    },
    {
      "cell_type": "code",
      "execution_count": null,
      "metadata": {
        "colab": {
          "base_uri": "https://localhost:8080/"
        },
        "id": "j_D5qGq18iGT",
        "outputId": "67dc9a9b-c7dc-4c10-81b3-ca7e684b9e4b"
      },
      "outputs": [
        {
          "output_type": "execute_result",
          "data": {
            "text/plain": [
              "0.5605697477258789"
            ]
          },
          "metadata": {},
          "execution_count": 66
        }
      ],
      "source": [
        "# train 데이터 결정계수\n",
        "\n",
        "# test 데이터 결정계수 "
      ]
    },
    {
      "cell_type": "markdown",
      "source": [
        "* 추정된 통계량 확인\n",
        "  * 총 3개의 변수를 사용하였기 때문에 3개의 회귀계수와 1개의 절편을 추정함"
      ],
      "metadata": {
        "id": "9v48ZS2iKVn_"
      }
    },
    {
      "cell_type": "code",
      "execution_count": null,
      "metadata": {
        "colab": {
          "base_uri": "https://localhost:8080/",
          "height": 52
        },
        "id": "NM4NQu9xFUBA",
        "outputId": "5615d7ba-4e06-4db6-e6da-35959082453f"
      },
      "outputs": [
        {
          "output_type": "display_data",
          "data": {
            "text/plain": [
              "array([[2.36071749e+00, 4.15687885e-04, 1.56645018e-03]])"
            ]
          },
          "metadata": {}
        },
        {
          "output_type": "display_data",
          "data": {
            "text/plain": [
              "array([-3.29667829])"
            ]
          },
          "metadata": {}
        }
      ],
      "source": [
        "# 추정 된 계수 확인(상수항 제외)\n",
        "\n",
        "\n",
        "# 추정 된 절편(상수항) 확인\n",
        "\n"
      ]
    },
    {
      "cell_type": "markdown",
      "metadata": {
        "id": "AQfZNCMr_iK0"
      },
      "source": [
        "* 예측된 y와 실제 y값 비교\n",
        "  * x축 : 실제 소요시간(diff)\n",
        "  * y축 : 회귀모델로 예측한 소요시간\n",
        "  * 그래프에서 y=x (빨간선)에 모여있을수록 잘 예측했다고 말할 수 있음\n",
        "  * 실제 소요시간이 80분 이상인 데이터에서 회귀선이 잘 예측하지 못하고 있음"
      ]
    },
    {
      "cell_type": "code",
      "execution_count": null,
      "metadata": {
        "colab": {
          "base_uri": "https://localhost:8080/",
          "height": 265
        },
        "id": "2-h7xBct89uw",
        "outputId": "7a7b4152-0331-4d66-bfac-364f89e5ebc3"
      },
      "outputs": [
        {
          "output_type": "display_data",
          "data": {
            "text/plain": [
              "<Figure size 432x288 with 1 Axes>"
            ],
            "image/png": "[encoded data removed]"
          },
          "metadata": {
            "needs_background": "light"
          }
        }
      ],
      "source": [
        "#예측된 y와 실제y의 값을 비교 \n"
      ]
    },
    {
      "cell_type": "markdown",
      "source": [
        "### 5-2. 의사결정나무(Decision Tree)"
      ],
      "metadata": {
        "id": "7qvItS-Oepc_"
      }
    },
    {
      "cell_type": "markdown",
      "metadata": {
        "id": "AJuUoRj6FUjT"
      },
      "source": [
        "\n",
        "* 의사결정나무 모델 생성\n",
        "  * max_depth : 나무 모델의 최대 깊이"
      ]
    },
    {
      "cell_type": "code",
      "execution_count": null,
      "metadata": {
        "id": "QCw3rPhsFgNT"
      },
      "outputs": [],
      "source": [
        "#의사결정나무 모델 \n"
      ]
    },
    {
      "cell_type": "markdown",
      "metadata": {
        "id": "8Gf0-FsAFhLz"
      },
      "source": [
        "* 의사결정나무 모델 성능 확인\n",
        "  * R²(결정계수)를 이용하여 모델 평가"
      ]
    },
    {
      "cell_type": "code",
      "execution_count": null,
      "metadata": {
        "colab": {
          "base_uri": "https://localhost:8080/"
        },
        "id": "0m2kylZcFiML",
        "outputId": "97e4ea99-b6a5-4c16-e81a-aedeaadc4b83"
      },
      "outputs": [
        {
          "output_type": "execute_result",
          "data": {
            "text/plain": [
              "0.8709239424150291"
            ]
          },
          "metadata": {},
          "execution_count": 70
        }
      ],
      "source": [
        "# train 데이터 결정계수\n",
        "\n",
        "# test 데이터 결정계수 \n"
      ]
    },
    {
      "cell_type": "markdown",
      "source": [
        "* 생성된 의사결정나무 확인\n",
        "  * gini 지수 : 불순도를 측정하는 지표로서, 낮을 수록 순수한 상태를 의미함"
      ],
      "metadata": {
        "id": "3UTkqCLTWUYp"
      }
    },
    {
      "cell_type": "code",
      "execution_count": null,
      "metadata": {
        "id": "F9c7UEtQ0LOv",
        "colab": {
          "base_uri": "https://localhost:8080/",
          "height": 538
        },
        "outputId": "9f8a021c-69e3-48f5-f98c-9b79290eb25d"
      },
      "outputs": [
        {
          "output_type": "execute_result",
          "data": {
            "text/plain": [
              "<graphviz.files.Source at 0x7f3066fab750>"
            ],
            "image/svg+xml": "<?xml version=\"1.0\" encoding=\"UTF-8\" standalone=\"no\"?>\n<!DOCTYPE svg PUBLIC \"-//W3C//DTD SVG 1.1//EN\"\n \"http://www.w3.org/Graphics/SVG/1.1/DTD/svg11.dtd\">\n<!-- Generated by graphviz version 2.40.1 (20161225.0304)\n -->\n<!-- Title: Tree Pages: 1 -->\n<svg width=\"1446pt\" height=\"373pt\"\n viewBox=\"0.00 0.00 1446.00 373.00\" xmlns=\"http://www.w3.org/2000/svg\" xmlns:xlink=\"http://www.w3.org/1999/xlink\">\n<g id=\"graph0\" class=\"graph\" transform=\"scale(1 1) rotate(0) translate(4 369)\">\n<title>Tree</title>\n<polygon fill=\"#ffffff\" stroke=\"transparent\" points=\"-4,4 -4,-369 1442,-369 1442,4 -4,4\"/>\n<!-- 0 -->\n<g id=\"node1\" class=\"node\">\n<title>0</title>\n<polygon fill=\"#f6d5bd\" stroke=\"#000000\" points=\"827,-365 606,-365 606,-297 827,-297 827,-365\"/>\n<text text-anchor=\"middle\" x=\"716.5\" y=\"-349.8\" font-family=\"Helvetica,sans-Serif\" font-size=\"14.00\" fill=\"#000000\">STEEL_CATEGORY &lt;= 2976.0</text>\n<text text-anchor=\"middle\" x=\"716.5\" y=\"-334.8\" font-family=\"Helvetica,sans-Serif\" font-size=\"14.00\" fill=\"#000000\">squared_error = 105.309</text>\n<text text-anchor=\"middle\" x=\"716.5\" y=\"-319.8\" font-family=\"Helvetica,sans-Serif\" font-size=\"14.00\" fill=\"#000000\">samples = 23262</text>\n<text text-anchor=\"middle\" x=\"716.5\" y=\"-304.8\" font-family=\"Helvetica,sans-Serif\" font-size=\"14.00\" fill=\"#000000\">value = 44.762</text>\n</g>\n<!-- 1 -->\n<g id=\"node2\" class=\"node\">\n<title>1</title>\n<polygon fill=\"#f6d3bb\" stroke=\"#000000\" points=\"653,-261 432,-261 432,-193 653,-193 653,-261\"/>\n<text text-anchor=\"middle\" x=\"542.5\" y=\"-245.8\" font-family=\"Helvetica,sans-Serif\" font-size=\"14.00\" fill=\"#000000\">STEEL_CATEGORY &lt;= 2930.0</text>\n<text text-anchor=\"middle\" x=\"542.5\" y=\"-230.8\" font-family=\"Helvetica,sans-Serif\" font-size=\"14.00\" fill=\"#000000\">squared_error = 73.317</text>\n<text text-anchor=\"middle\" x=\"542.5\" y=\"-215.8\" font-family=\"Helvetica,sans-Serif\" font-size=\"14.00\" fill=\"#000000\">samples = 22423</text>\n<text text-anchor=\"middle\" x=\"542.5\" y=\"-200.8\" font-family=\"Helvetica,sans-Serif\" font-size=\"14.00\" fill=\"#000000\">value = 45.872</text>\n</g>\n<!-- 0&#45;&gt;1 -->\n<g id=\"edge1\" class=\"edge\">\n<title>0&#45;&gt;1</title>\n<path fill=\"none\" stroke=\"#000000\" d=\"M659.5259,-296.9465C643.1522,-287.1599 625.1611,-276.4066 608.3011,-266.3294\"/>\n<polygon fill=\"#000000\" stroke=\"#000000\" points=\"609.9814,-263.2562 599.6021,-261.13 606.3901,-269.2648 609.9814,-263.2562\"/>\n<text text-anchor=\"middle\" x=\"605.7065\" y=\"-281.6733\" font-family=\"Helvetica,sans-Serif\" font-size=\"14.00\" fill=\"#000000\">True</text>\n</g>\n<!-- 8 -->\n<g id=\"node9\" class=\"node\">\n<title>8</title>\n<polygon fill=\"#fef9f5\" stroke=\"#000000\" points=\"987,-261 796,-261 796,-193 987,-193 987,-261\"/>\n<text text-anchor=\"middle\" x=\"891.5\" y=\"-245.8\" font-family=\"Helvetica,sans-Serif\" font-size=\"14.00\" fill=\"#000000\">TOT_LENGTH &lt;= 10700.0</text>\n<text text-anchor=\"middle\" x=\"891.5\" y=\"-230.8\" font-family=\"Helvetica,sans-Serif\" font-size=\"14.00\" fill=\"#000000\">squared_error = 46.822</text>\n<text text-anchor=\"middle\" x=\"891.5\" y=\"-215.8\" font-family=\"Helvetica,sans-Serif\" font-size=\"14.00\" fill=\"#000000\">samples = 839</text>\n<text text-anchor=\"middle\" x=\"891.5\" y=\"-200.8\" font-family=\"Helvetica,sans-Serif\" font-size=\"14.00\" fill=\"#000000\">value = 15.088</text>\n</g>\n<!-- 0&#45;&gt;8 -->\n<g id=\"edge8\" class=\"edge\">\n<title>0&#45;&gt;8</title>\n<path fill=\"none\" stroke=\"#000000\" d=\"M773.8015,-296.9465C790.2694,-287.1599 808.3638,-276.4066 825.3207,-266.3294\"/>\n<polygon fill=\"#000000\" stroke=\"#000000\" points=\"827.2613,-269.2476 834.0697,-261.13 823.6851,-263.23 827.2613,-269.2476\"/>\n<text text-anchor=\"middle\" x=\"827.9042\" y=\"-281.6578\" font-family=\"Helvetica,sans-Serif\" font-size=\"14.00\" fill=\"#000000\">False</text>\n</g>\n<!-- 2 -->\n<g id=\"node3\" class=\"node\">\n<title>2</title>\n<polygon fill=\"#f6d4bc\" stroke=\"#000000\" points=\"367,-157 176,-157 176,-89 367,-89 367,-157\"/>\n<text text-anchor=\"middle\" x=\"271.5\" y=\"-141.8\" font-family=\"Helvetica,sans-Serif\" font-size=\"14.00\" fill=\"#000000\">TOT_LENGTH &lt;= 22875.0</text>\n<text text-anchor=\"middle\" x=\"271.5\" y=\"-126.8\" font-family=\"Helvetica,sans-Serif\" font-size=\"14.00\" fill=\"#000000\">squared_error = 38.495</text>\n<text text-anchor=\"middle\" x=\"271.5\" y=\"-111.8\" font-family=\"Helvetica,sans-Serif\" font-size=\"14.00\" fill=\"#000000\">samples = 22231</text>\n<text text-anchor=\"middle\" x=\"271.5\" y=\"-96.8\" font-family=\"Helvetica,sans-Serif\" font-size=\"14.00\" fill=\"#000000\">value = 45.346</text>\n</g>\n<!-- 1&#45;&gt;2 -->\n<g id=\"edge2\" class=\"edge\">\n<title>1&#45;&gt;2</title>\n<path fill=\"none\" stroke=\"#000000\" d=\"M453.7645,-192.9465C426.9761,-182.6661 397.4081,-171.319 370.0224,-160.8093\"/>\n<polygon fill=\"#000000\" stroke=\"#000000\" points=\"371.025,-157.4453 360.4349,-157.13 368.517,-163.9806 371.025,-157.4453\"/>\n</g>\n<!-- 5 -->\n<g id=\"node6\" class=\"node\">\n<title>5</title>\n<polygon fill=\"#e78946\" stroke=\"#000000\" points=\"638,-157 447,-157 447,-89 638,-89 638,-157\"/>\n<text text-anchor=\"middle\" x=\"542.5\" y=\"-141.8\" font-family=\"Helvetica,sans-Serif\" font-size=\"14.00\" fill=\"#000000\">TOT_LENGTH &lt;= 21525.0</text>\n<text text-anchor=\"middle\" x=\"542.5\" y=\"-126.8\" font-family=\"Helvetica,sans-Serif\" font-size=\"14.00\" fill=\"#000000\">squared_error = 364.572</text>\n<text text-anchor=\"middle\" x=\"542.5\" y=\"-111.8\" font-family=\"Helvetica,sans-Serif\" font-size=\"14.00\" fill=\"#000000\">samples = 192</text>\n<text text-anchor=\"middle\" x=\"542.5\" y=\"-96.8\" font-family=\"Helvetica,sans-Serif\" font-size=\"14.00\" fill=\"#000000\">value = 106.771</text>\n</g>\n<!-- 1&#45;&gt;5 -->\n<g id=\"edge5\" class=\"edge\">\n<title>1&#45;&gt;5</title>\n<path fill=\"none\" stroke=\"#000000\" d=\"M542.5,-192.9465C542.5,-184.776 542.5,-175.9318 542.5,-167.3697\"/>\n<polygon fill=\"#000000\" stroke=\"#000000\" points=\"546.0001,-167.13 542.5,-157.13 539.0001,-167.13 546.0001,-167.13\"/>\n</g>\n<!-- 3 -->\n<g id=\"node4\" class=\"node\">\n<title>3</title>\n<polygon fill=\"#f7d6bf\" stroke=\"#000000\" points=\"169,-53 0,-53 0,0 169,0 169,-53\"/>\n<text text-anchor=\"middle\" x=\"84.5\" y=\"-37.8\" font-family=\"Helvetica,sans-Serif\" font-size=\"14.00\" fill=\"#000000\">squared_error = 26.791</text>\n<text text-anchor=\"middle\" x=\"84.5\" y=\"-22.8\" font-family=\"Helvetica,sans-Serif\" font-size=\"14.00\" fill=\"#000000\">samples = 18286</text>\n<text text-anchor=\"middle\" x=\"84.5\" y=\"-7.8\" font-family=\"Helvetica,sans-Serif\" font-size=\"14.00\" fill=\"#000000\">value = 43.65</text>\n</g>\n<!-- 2&#45;&gt;3 -->\n<g id=\"edge3\" class=\"edge\">\n<title>2&#45;&gt;3</title>\n<path fill=\"none\" stroke=\"#000000\" d=\"M205.5708,-88.9777C185.8722,-78.8124 164.3806,-67.7218 145.0451,-57.7439\"/>\n<polygon fill=\"#000000\" stroke=\"#000000\" points=\"146.5281,-54.5706 136.0365,-53.095 143.318,-60.7912 146.5281,-54.5706\"/>\n</g>\n<!-- 4 -->\n<g id=\"node5\" class=\"node\">\n<title>4</title>\n<polygon fill=\"#f4caac\" stroke=\"#000000\" points=\"356,-53 187,-53 187,0 356,0 356,-53\"/>\n<text text-anchor=\"middle\" x=\"271.5\" y=\"-37.8\" font-family=\"Helvetica,sans-Serif\" font-size=\"14.00\" fill=\"#000000\">squared_error = 17.559</text>\n<text text-anchor=\"middle\" x=\"271.5\" y=\"-22.8\" font-family=\"Helvetica,sans-Serif\" font-size=\"14.00\" fill=\"#000000\">samples = 3945</text>\n<text text-anchor=\"middle\" x=\"271.5\" y=\"-7.8\" font-family=\"Helvetica,sans-Serif\" font-size=\"14.00\" fill=\"#000000\">value = 53.211</text>\n</g>\n<!-- 2&#45;&gt;4 -->\n<g id=\"edge4\" class=\"edge\">\n<title>2&#45;&gt;4</title>\n<path fill=\"none\" stroke=\"#000000\" d=\"M271.5,-88.9777C271.5,-80.7364 271.5,-71.887 271.5,-63.5153\"/>\n<polygon fill=\"#000000\" stroke=\"#000000\" points=\"275.0001,-63.2484 271.5,-53.2485 268.0001,-63.2485 275.0001,-63.2484\"/>\n</g>\n<!-- 6 -->\n<g id=\"node7\" class=\"node\">\n<title>6</title>\n<polygon fill=\"#f0b78e\" stroke=\"#000000\" points=\"551,-53 374,-53 374,0 551,0 551,-53\"/>\n<text text-anchor=\"middle\" x=\"462.5\" y=\"-37.8\" font-family=\"Helvetica,sans-Serif\" font-size=\"14.00\" fill=\"#000000\">squared_error = 206.222</text>\n<text text-anchor=\"middle\" x=\"462.5\" y=\"-22.8\" font-family=\"Helvetica,sans-Serif\" font-size=\"14.00\" fill=\"#000000\">samples = 30</text>\n<text text-anchor=\"middle\" x=\"462.5\" y=\"-7.8\" font-family=\"Helvetica,sans-Serif\" font-size=\"14.00\" fill=\"#000000\">value = 69.333</text>\n</g>\n<!-- 5&#45;&gt;6 -->\n<g id=\"edge6\" class=\"edge\">\n<title>5&#45;&gt;6</title>\n<path fill=\"none\" stroke=\"#000000\" d=\"M514.295,-88.9777C506.7796,-79.9123 498.6542,-70.111 491.117,-61.0192\"/>\n<polygon fill=\"#000000\" stroke=\"#000000\" points=\"493.7516,-58.7133 484.6749,-53.2485 488.3626,-63.1808 493.7516,-58.7133\"/>\n</g>\n<!-- 7 -->\n<g id=\"node8\" class=\"node\">\n<title>7</title>\n<polygon fill=\"#e58139\" stroke=\"#000000\" points=\"738,-53 569,-53 569,0 738,0 738,-53\"/>\n<text text-anchor=\"middle\" x=\"653.5\" y=\"-37.8\" font-family=\"Helvetica,sans-Serif\" font-size=\"14.00\" fill=\"#000000\">squared_error = 86.283</text>\n<text text-anchor=\"middle\" x=\"653.5\" y=\"-22.8\" font-family=\"Helvetica,sans-Serif\" font-size=\"14.00\" fill=\"#000000\">samples = 162</text>\n<text text-anchor=\"middle\" x=\"653.5\" y=\"-7.8\" font-family=\"Helvetica,sans-Serif\" font-size=\"14.00\" fill=\"#000000\">value = 113.704</text>\n</g>\n<!-- 5&#45;&gt;7 -->\n<g id=\"edge7\" class=\"edge\">\n<title>5&#45;&gt;7</title>\n<path fill=\"none\" stroke=\"#000000\" d=\"M581.6344,-88.9777C592.4833,-79.546 604.2484,-69.3178 615.0574,-59.9208\"/>\n<polygon fill=\"#000000\" stroke=\"#000000\" points=\"617.4819,-62.4508 622.7323,-53.2485 612.8892,-57.1681 617.4819,-62.4508\"/>\n</g>\n<!-- 9 -->\n<g id=\"node10\" class=\"node\">\n<title>9</title>\n<polygon fill=\"#ffffff\" stroke=\"#000000\" points=\"1002,-157 781,-157 781,-89 1002,-89 1002,-157\"/>\n<text text-anchor=\"middle\" x=\"891.5\" y=\"-141.8\" font-family=\"Helvetica,sans-Serif\" font-size=\"14.00\" fill=\"#000000\">STEEL_CATEGORY &lt;= 3122.5</text>\n<text text-anchor=\"middle\" x=\"891.5\" y=\"-126.8\" font-family=\"Helvetica,sans-Serif\" font-size=\"14.00\" fill=\"#000000\">squared_error = 0.774</text>\n<text text-anchor=\"middle\" x=\"891.5\" y=\"-111.8\" font-family=\"Helvetica,sans-Serif\" font-size=\"14.00\" fill=\"#000000\">samples = 504</text>\n<text text-anchor=\"middle\" x=\"891.5\" y=\"-96.8\" font-family=\"Helvetica,sans-Serif\" font-size=\"14.00\" fill=\"#000000\">value = 10.139</text>\n</g>\n<!-- 8&#45;&gt;9 -->\n<g id=\"edge9\" class=\"edge\">\n<title>8&#45;&gt;9</title>\n<path fill=\"none\" stroke=\"#000000\" d=\"M891.5,-192.9465C891.5,-184.776 891.5,-175.9318 891.5,-167.3697\"/>\n<polygon fill=\"#000000\" stroke=\"#000000\" points=\"895.0001,-167.13 891.5,-157.13 888.0001,-167.13 895.0001,-167.13\"/>\n</g>\n<!-- 12 -->\n<g id=\"node13\" class=\"node\">\n<title>12</title>\n<polygon fill=\"#fcf0e7\" stroke=\"#000000\" points=\"1274,-157 1083,-157 1083,-89 1274,-89 1274,-157\"/>\n<text text-anchor=\"middle\" x=\"1178.5\" y=\"-141.8\" font-family=\"Helvetica,sans-Serif\" font-size=\"14.00\" fill=\"#000000\">TOT_LENGTH &lt;= 45900.0</text>\n<text text-anchor=\"middle\" x=\"1178.5\" y=\"-126.8\" font-family=\"Helvetica,sans-Serif\" font-size=\"14.00\" fill=\"#000000\">squared_error = 23.801</text>\n<text text-anchor=\"middle\" x=\"1178.5\" y=\"-111.8\" font-family=\"Helvetica,sans-Serif\" font-size=\"14.00\" fill=\"#000000\">samples = 335</text>\n<text text-anchor=\"middle\" x=\"1178.5\" y=\"-96.8\" font-family=\"Helvetica,sans-Serif\" font-size=\"14.00\" fill=\"#000000\">value = 22.534</text>\n</g>\n<!-- 8&#45;&gt;12 -->\n<g id=\"edge12\" class=\"edge\">\n<title>8&#45;&gt;12</title>\n<path fill=\"none\" stroke=\"#000000\" d=\"M985.4745,-192.9465C1013.9684,-182.6212 1045.4317,-171.2199 1074.5406,-160.6717\"/>\n<polygon fill=\"#000000\" stroke=\"#000000\" points=\"1076.105,-163.8276 1084.3143,-157.13 1073.7201,-157.2464 1076.105,-163.8276\"/>\n</g>\n<!-- 10 -->\n<g id=\"node11\" class=\"node\">\n<title>10</title>\n<polygon fill=\"#ffffff\" stroke=\"#000000\" points=\"900.5,-53 756.5,-53 756.5,0 900.5,0 900.5,-53\"/>\n<text text-anchor=\"middle\" x=\"828.5\" y=\"-37.8\" font-family=\"Helvetica,sans-Serif\" font-size=\"14.00\" fill=\"#000000\">squared_error = 0.0</text>\n<text text-anchor=\"middle\" x=\"828.5\" y=\"-22.8\" font-family=\"Helvetica,sans-Serif\" font-size=\"14.00\" fill=\"#000000\">samples = 475</text>\n<text text-anchor=\"middle\" x=\"828.5\" y=\"-7.8\" font-family=\"Helvetica,sans-Serif\" font-size=\"14.00\" fill=\"#000000\">value = 10.0</text>\n</g>\n<!-- 9&#45;&gt;10 -->\n<g id=\"edge10\" class=\"edge\">\n<title>9&#45;&gt;10</title>\n<path fill=\"none\" stroke=\"#000000\" d=\"M869.2886,-88.9777C863.5496,-80.187 857.3588,-70.7044 851.5767,-61.8477\"/>\n<polygon fill=\"#000000\" stroke=\"#000000\" points=\"854.3602,-59.7087 845.9627,-53.2485 848.4987,-63.5354 854.3602,-59.7087\"/>\n</g>\n<!-- 11 -->\n<g id=\"node12\" class=\"node\">\n<title>11</title>\n<polygon fill=\"#fefcfa\" stroke=\"#000000\" points=\"1080,-53 919,-53 919,0 1080,0 1080,-53\"/>\n<text text-anchor=\"middle\" x=\"999.5\" y=\"-37.8\" font-family=\"Helvetica,sans-Serif\" font-size=\"14.00\" fill=\"#000000\">squared_error = 7.967</text>\n<text text-anchor=\"middle\" x=\"999.5\" y=\"-22.8\" font-family=\"Helvetica,sans-Serif\" font-size=\"14.00\" fill=\"#000000\">samples = 29</text>\n<text text-anchor=\"middle\" x=\"999.5\" y=\"-7.8\" font-family=\"Helvetica,sans-Serif\" font-size=\"14.00\" fill=\"#000000\">value = 12.414</text>\n</g>\n<!-- 9&#45;&gt;11 -->\n<g id=\"edge11\" class=\"edge\">\n<title>9&#45;&gt;11</title>\n<path fill=\"none\" stroke=\"#000000\" d=\"M929.5768,-88.9777C940.1324,-79.546 951.5796,-69.3178 962.0964,-59.9208\"/>\n<polygon fill=\"#000000\" stroke=\"#000000\" points=\"964.439,-62.5213 969.5639,-53.2485 959.7749,-57.3015 964.439,-62.5213\"/>\n</g>\n<!-- 13 -->\n<g id=\"node14\" class=\"node\">\n<title>13</title>\n<polygon fill=\"#fcf0e8\" stroke=\"#000000\" points=\"1259,-53 1098,-53 1098,0 1259,0 1259,-53\"/>\n<text text-anchor=\"middle\" x=\"1178.5\" y=\"-37.8\" font-family=\"Helvetica,sans-Serif\" font-size=\"14.00\" fill=\"#000000\">squared_error = 9.731</text>\n<text text-anchor=\"middle\" x=\"1178.5\" y=\"-22.8\" font-family=\"Helvetica,sans-Serif\" font-size=\"14.00\" fill=\"#000000\">samples = 333</text>\n<text text-anchor=\"middle\" x=\"1178.5\" y=\"-7.8\" font-family=\"Helvetica,sans-Serif\" font-size=\"14.00\" fill=\"#000000\">value = 22.249</text>\n</g>\n<!-- 12&#45;&gt;13 -->\n<g id=\"edge13\" class=\"edge\">\n<title>12&#45;&gt;13</title>\n<path fill=\"none\" stroke=\"#000000\" d=\"M1178.5,-88.9777C1178.5,-80.7364 1178.5,-71.887 1178.5,-63.5153\"/>\n<polygon fill=\"#000000\" stroke=\"#000000\" points=\"1182.0001,-63.2484 1178.5,-53.2485 1175.0001,-63.2485 1182.0001,-63.2484\"/>\n</g>\n<!-- 14 -->\n<g id=\"node15\" class=\"node\">\n<title>14</title>\n<polygon fill=\"#f0b68c\" stroke=\"#000000\" points=\"1438,-53 1277,-53 1277,0 1438,0 1438,-53\"/>\n<text text-anchor=\"middle\" x=\"1357.5\" y=\"-37.8\" font-family=\"Helvetica,sans-Serif\" font-size=\"14.00\" fill=\"#000000\">squared_error = 100.0</text>\n<text text-anchor=\"middle\" x=\"1357.5\" y=\"-22.8\" font-family=\"Helvetica,sans-Serif\" font-size=\"14.00\" fill=\"#000000\">samples = 2</text>\n<text text-anchor=\"middle\" x=\"1357.5\" y=\"-7.8\" font-family=\"Helvetica,sans-Serif\" font-size=\"14.00\" fill=\"#000000\">value = 70.0</text>\n</g>\n<!-- 12&#45;&gt;14 -->\n<g id=\"edge14\" class=\"edge\">\n<title>12&#45;&gt;14</title>\n<path fill=\"none\" stroke=\"#000000\" d=\"M1241.6087,-88.9777C1260.3792,-78.8584 1280.8506,-67.8222 1299.2937,-57.8794\"/>\n<polygon fill=\"#000000\" stroke=\"#000000\" points=\"1301.0268,-60.9213 1308.1683,-53.095 1297.705,-54.7597 1301.0268,-60.9213\"/>\n</g>\n</g>\n</svg>\n"
          },
          "metadata": {},
          "execution_count": 71
        }
      ],
      "source": [
        "#의사결정나무 트리 생성 \n"
      ]
    },
    {
      "cell_type": "markdown",
      "source": [
        "### 5-3. 앙상블(Ensemble) - 랜덤포레스트(Random Foreset) 모델"
      ],
      "metadata": {
        "id": "BZi53_-Qe3GJ"
      }
    },
    {
      "cell_type": "markdown",
      "metadata": {
        "id": "mMjXHzmEFilP"
      },
      "source": [
        "\n",
        "* 랜덤포레스트 모델 생성\n",
        "  * 하이퍼파라미터 값은 임의로 할당 > 추후에 튜닝 필요\n",
        "  * n_estimators : 생성할 의사결정나무의 갯수\n",
        "  * max_features : 최적 분할을 위해 고려할 최대 feature 갯수\n",
        "  * max_depth : 각 의사결정나무의 최대 깊이"
      ]
    },
    {
      "cell_type": "code",
      "execution_count": null,
      "metadata": {
        "colab": {
          "base_uri": "https://localhost:8080/"
        },
        "id": "2ob36_qpFol_",
        "outputId": "7c324065-4c0f-4a62-a0ad-32f3888e4400"
      },
      "outputs": [
        {
          "output_type": "execute_result",
          "data": {
            "text/plain": [
              "RandomForestRegressor(max_depth=3, max_features=2, n_estimators=10)"
            ]
          },
          "metadata": {},
          "execution_count": 72
        }
      ],
      "source": [
        "#랜덤포레스트모델 생성 \n"
      ]
    },
    {
      "cell_type": "markdown",
      "metadata": {
        "id": "zo1KkFCuFo-x"
      },
      "source": [
        "* 랜덤포레스트 모델 성능 확인\n",
        "  * R²(결정계수)를 이용하여 모델 평가"
      ]
    },
    {
      "cell_type": "code",
      "execution_count": null,
      "metadata": {
        "colab": {
          "base_uri": "https://localhost:8080/"
        },
        "id": "cIyt_p4dFqON",
        "outputId": "57ddffe2-64bf-4f13-948b-a0af4ad772ed"
      },
      "outputs": [
        {
          "output_type": "execute_result",
          "data": {
            "text/plain": [
              "0.8717915085957073"
            ]
          },
          "metadata": {},
          "execution_count": 73
        }
      ],
      "source": [
        "# train 데이터 결정계수\n",
        "\n",
        "# test 데이터 결정계수 \n"
      ]
    },
    {
      "cell_type": "markdown",
      "source": [
        "### 5-4. 3가지 모델 성능 비교"
      ],
      "metadata": {
        "id": "8yPdPO55e5Za"
      }
    },
    {
      "cell_type": "markdown",
      "metadata": {
        "id": "wJGqEs-jFz9-"
      },
      "source": [
        "\n",
        "* 5-1 ~ 5-3 에서는 모델을 생성한 후 결정계수값을 생성하여 모델을 평가함\n",
        "* 회귀분석에서 사용하는 여러가지 평가지표 중 가장 많이 사용되는 아래 3가지 오차관련 지표를 이용하여 추가로 성능 비교를 진행\n",
        "* 모두 오차 관련 지표로 낮을 수록 좋은 모델을 의미함\n",
        "  * MAE : 오차 절대값의 평균\n",
        "  * MSE : 오차 제곱의 평균\n",
        "  * RMSE : 오차 제곱의 평균을 구해서 제곱근을 씌운 값\n",
        "<figure>\n",
        "<left>\n",
        "<img src='https://4.bp.blogspot.com/-wG7IbjTfE6k/XGUvqm7TCVI/AAAAAAAAAZU/vpH1kuKTIooKTcVlnm1EVRCXLVZM9cPNgCLcBGAs/s1600/formula-MAE-MSE-RMSE-RSquared.JPG' />\n",
        "</left>\n",
        "</figure>\n"
      ]
    },
    {
      "cell_type": "code",
      "execution_count": null,
      "metadata": {
        "id": "Htci6kg-F7zO",
        "colab": {
          "base_uri": "https://localhost:8080/"
        },
        "outputId": "2803869c-9425-443b-d592-42275f1e330e"
      },
      "outputs": [
        {
          "output_type": "stream",
          "name": "stdout",
          "text": [
            "###MAE 비교 결과### \n",
            "1.선형회귀 : 6.261653633640643\n",
            "2.의사결정나무 : 3.3016186134372814\n",
            "3.랜덤포레스트 : 3.1105243180954063\n",
            "\n",
            "###MSE 비교 결과### \n",
            "1.선형회귀 : 58.180193733283716\n",
            "2.의사결정나무 : 17.089560852395476\n",
            "3.랜덤포레스트 : 16.97469582385663\n",
            "\n",
            "###RMSE 비교 결과### \n",
            "1.선형회귀 : 7.627594229721696\n",
            "2.의사결정나무 : 4.133952207318739\n",
            "3.랜덤포레스트 : 4.120035900797059\n"
          ]
        }
      ],
      "source": [
        "#메트릭 패키지 임포트\n",
        "\n",
        "# 모델 별 예측값 저장\n",
        "\n",
        "# MAE\n",
        "\n",
        "print('###MAE 비교 결과### \\n1.선형회귀 : {}\\n2.의사결정나무 : {}\\n3.랜덤포레스트 : {}\\n'.format(lm_mae, tree_mae, rf_mae))              \n",
        "\n",
        "# MSE\n",
        "\n",
        "print('###MSE 비교 결과### \\n1.선형회귀 : {}\\n2.의사결정나무 : {}\\n3.랜덤포레스트 : {}\\n'.format(lm_mse, tree_mse, rf_mse))              \n",
        "\n",
        "\n",
        "# RMSE\n",
        "\n",
        "print('###RMSE 비교 결과### \\n1.선형회귀 : {}\\n2.의사결정나무 : {}\\n3.랜덤포레스트 : {}'.format(lm_rmse, tree_rmse, rf_rmse))              \n"
      ]
    }
  ],
  "metadata": {
    "colab": {
      "name": "생산 소요시간 예측(on)_실습용.ipynb",
      "provenance": [],
      "collapsed_sections": [],
      "toc_visible": true,
      "include_colab_link": true
    },
    "kernelspec": {
      "display_name": "Python 3",
      "name": "python3"
    },
    "language_info": {
      "name": "python"
    }
  },
  "nbformat": 4,
  "nbformat_minor": 0
}